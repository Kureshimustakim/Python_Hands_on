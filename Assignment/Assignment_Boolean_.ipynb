{
 "cells": [
  {
   "cell_type": "markdown",
   "id": "62bb413b",
   "metadata": {},
   "source": [
    "## Q. Declare a boolean value and store it in a variable. Check the type and print the id of the same."
   ]
  },
  {
   "cell_type": "code",
   "execution_count": 1,
   "id": "f67df785",
   "metadata": {},
   "outputs": [
    {
     "name": "stdout",
     "output_type": "stream",
     "text": [
      "True <class 'bool'>\n",
      "True <class 'bool'>\n",
      "140730160065056\n",
      "140730160065056\n",
      "True\n"
     ]
    }
   ],
   "source": [
    "a = True \n",
    "b = True \n",
    "\n",
    "print(a , type(a))\n",
    "print(b , type(b))\n",
    "print(id(a))\n",
    "print(id(b))\n",
    "print(a is b)"
   ]
  },
  {
   "cell_type": "markdown",
   "id": "e263b5d3",
   "metadata": {},
   "source": [
    "## Q. Take one boolean value between 0 - 256.\n",
    "- Assign it to two different variables.\n",
    "- Check the id of both the variables. It should come the same. Check why?"
   ]
  },
  {
   "cell_type": "code",
   "execution_count": 4,
   "id": "01c1cecb",
   "metadata": {},
   "outputs": [
    {
     "name": "stdout",
     "output_type": "stream",
     "text": [
      "True\n",
      "140730161533736\n",
      "140730161533736\n"
     ]
    }
   ],
   "source": [
    "a = 1\n",
    "b = 1\n",
    "\n",
    "print(a is b)\n",
    "print(id(a))\n",
    "print(id(b))"
   ]
  },
  {
   "cell_type": "markdown",
   "id": "63296108",
   "metadata": {},
   "source": [
    "## Q. Arithmetic Operations on boolean data , Take two different boolean values. Store them in two different variables.\n",
    "\n",
    "1. Do below operations on them:-\n",
    "- Find sum of both values\n",
    "- Find difference between them\n",
    "- Find the product of both.\n",
    "- Find value after dividing first value with second value\n",
    "- Find the remainder after dividing first value with second value\n",
    "- Find the quotient after dividing first value with second value\n",
    "- Find the result of first value to the power of second value."
   ]
  },
  {
   "cell_type": "code",
   "execution_count": null,
   "id": "8dbcf350",
   "metadata": {},
   "outputs": [],
   "source": []
  },
  {
   "cell_type": "markdown",
   "id": "d13637a6",
   "metadata": {},
   "source": [
    "## Q. Comparison Operators on boolean values , Take two different boolean values. Store them in two different variables.\n",
    "\n",
    "1. Do below operations on them:-\n",
    "- Compare these two values with below operator:-\n",
    "- Greater than, '>'\n",
    "- less than, '<'\n",
    "- Greater than or equal to, '>='\n",
    "- Less than or equal to, '<='\n",
    "- Observe their output(return type should be boolean)"
   ]
  },
  {
   "cell_type": "code",
   "execution_count": 5,
   "id": "96daab8e",
   "metadata": {},
   "outputs": [
    {
     "name": "stdout",
     "output_type": "stream",
     "text": [
      "True\n",
      "False\n",
      "True\n",
      "False\n"
     ]
    }
   ],
   "source": [
    "a=96\n",
    "b=89\n",
    "\n",
    "print(a>b)\n",
    "print(a<b)\n",
    "print(a>=b)\n",
    "print(a<=b)"
   ]
  },
  {
   "cell_type": "markdown",
   "id": "4617345b",
   "metadata": {},
   "source": [
    "## Q. Equality Operator , Take two different boolean values. Store them in two different variables.\n",
    "\n",
    "- Equate them using equality operators (==, !=)\n",
    "- Observe the output(return type should be boolean)\n"
   ]
  },
  {
   "cell_type": "code",
   "execution_count": null,
   "id": "1f46ef49",
   "metadata": {},
   "outputs": [],
   "source": []
  },
  {
   "cell_type": "markdown",
   "id": "eb9b7442",
   "metadata": {},
   "source": [
    "## Q. Logical operators , Observe the output of below code\n",
    "- Cross check the output manually\n"
   ]
  },
  {
   "cell_type": "code",
   "execution_count": null,
   "id": "daa609ad",
   "metadata": {},
   "outputs": [],
   "source": [
    "print(True and True)\n",
    "#----------------------------------------->Output is True\n",
    "\n",
    "\n",
    "print(False and True)\n",
    "#----------------------------------------->Output is False\n",
    "\n",
    "\n",
    "print(True and False)\n",
    "#----------------------------------------->Output is False\n",
    "\n",
    "\n",
    "print(False and False)\n",
    "#----------------------------------------->Output is False\n",
    "\n",
    "print(True or True)\n",
    "#----------------------------------------->Output is True\n",
    "\n",
    "\n",
    "print(False or True)\n",
    "#----------------------------------------->Output is True\n",
    "\n",
    "\n",
    "print(True or False)\n",
    "#----------------------------------------->Output is True\n",
    "\n",
    "\n",
    "print(False or False)\n",
    "#----------------------------------------->Output is False\n",
    "\n",
    "\n",
    "print(not True)\n",
    "#----------------------------------------->Output is False\n",
    "\n",
    "\n",
    "print(not False)\n",
    "#----------------------------------------->Output is True"
   ]
  },
  {
   "cell_type": "markdown",
   "id": "80102551",
   "metadata": {},
   "source": [
    "## Q. Bitwise Operators , Do below operations on the values provided below:-"
   ]
  },
  {
   "cell_type": "code",
   "execution_count": null,
   "id": "e1986906",
   "metadata": {},
   "outputs": [],
   "source": [
    "Bitwise and(&) --------------> True, True -------> Output is True\n",
    " Bitwise or(|) --------------> True, False -------> Output is True\n",
    " Bitwise(^) --------------> True, False -------> Output is True\n",
    " Bitwise negation(~) ---------> True -------> Output is -2\n",
    " Bitwise left shift ---------> True,2 -------> Output is 4\n",
    " Bitwise right shift ---------> True,2 -------> Output is 0"
   ]
  },
  {
   "cell_type": "markdown",
   "id": "7cbea705",
   "metadata": {},
   "source": [
    "## Q. What is the output of expression inside the print statement. Cross check before running the program.\n",
    "\n"
   ]
  },
  {
   "cell_type": "code",
   "execution_count": null,
   "id": "343ffbda",
   "metadata": {},
   "outputs": [],
   "source": [
    "a = True\n",
    "b = True\n",
    "print(a is b) #True \n",
    "print(a is not b) #False\n",
    "\n",
    "\n",
    "a = False\n",
    "b = False\n",
    "print(a is b) #True\n",
    "print(a is not b) #False"
   ]
  },
  {
   "cell_type": "markdown",
   "id": "159ff279",
   "metadata": {},
   "source": [
    "## Q. Membership operation ''in'' , ''not in''  are two membership operators and it returns boolean value\n",
    "\n",
    "\n"
   ]
  },
  {
   "cell_type": "code",
   "execution_count": null,
   "id": "68606ab5",
   "metadata": {},
   "outputs": [],
   "source": [
    "print(True in [10,10.20,10+20j,'Python', True]) \n",
    "#--> true \n",
    "\n",
    "print(False in (10,10.20,10+20j,'Python', False))\n",
    "#--> true\n",
    "\n",
    "print(True in {1,2,3, True})\n",
    "#--> true\n",
    "\n",
    "print(True in {True:100, False:200, True:300})\n",
    "#--> true\n",
    "\n",
    "print(False in {True:100, False:200, True:300})\n",
    "#--> true"
   ]
  }
 ],
 "metadata": {
  "kernelspec": {
   "display_name": "Python 3 (ipykernel)",
   "language": "python",
   "name": "python3"
  },
  "language_info": {
   "codemirror_mode": {
    "name": "ipython",
    "version": 3
   },
   "file_extension": ".py",
   "mimetype": "text/x-python",
   "name": "python",
   "nbconvert_exporter": "python",
   "pygments_lexer": "ipython3",
   "version": "3.12.7"
  }
 },
 "nbformat": 4,
 "nbformat_minor": 5
}

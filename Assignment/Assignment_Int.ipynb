{
 "cells": [
  {
   "cell_type": "markdown",
   "id": "0ec91e30-a164-4e65-aec2-8d393c6215d7",
   "metadata": {},
   "source": [
    "### Q. Declare an int value and store it in a variable. \n",
    "- Check the type and print the id of the same.\n"
   ]
  },
  {
   "cell_type": "code",
   "execution_count": 1,
   "id": "b634109b",
   "metadata": {},
   "outputs": [
    {
     "name": "stdout",
     "output_type": "stream",
     "text": [
      "10 <class 'int'>\n",
      "10 <class 'int'>\n",
      "140723509930712\n",
      "140723509930712\n"
     ]
    }
   ],
   "source": [
    "a = 10\n",
    "b = 10\n",
    "\n",
    "print(a,type(a))\n",
    "print(b,type(b))\n",
    "print(id(a))\n",
    "print(id(b))"
   ]
  },
  {
   "cell_type": "markdown",
   "id": "7765c5ef-c795-4f7f-bc34-91e41b74e367",
   "metadata": {},
   "source": [
    "### Q. Take one int value between 0 - 256. Assign it to two different variables.\n",
    "- Check the id of both the variables.\n",
    "- It should come the same. Check why?"
   ]
  },
  {
   "cell_type": "code",
   "execution_count": 19,
   "id": "f30fea8e",
   "metadata": {},
   "outputs": [
    {
     "name": "stdout",
     "output_type": "stream",
     "text": [
      "140723509938520\n",
      "140723509938520\n",
      "True\n"
     ]
    }
   ],
   "source": [
    "a = 254\n",
    "b = 254\n",
    "\n",
    "\n",
    "print(id(a))\n",
    "print(id(b))\n",
    "print(a is b)"
   ]
  },
  {
   "cell_type": "markdown",
   "id": "c2df6d68-f726-4ca4-ab2e-ecbb17ab065c",
   "metadata": {},
   "source": [
    "# Q. Take one int value either less than -5 or greater than 256.\n",
    "- Assign it to two different variables. \n",
    "- Check the id of both the variables. It should come different.Check why?\n"
   ]
  },
  {
   "cell_type": "code",
   "execution_count": 3,
   "id": "8ad3047f",
   "metadata": {},
   "outputs": [
    {
     "name": "stdout",
     "output_type": "stream",
     "text": [
      "False\n",
      "1997157552048\n",
      "1997157551728\n"
     ]
    }
   ],
   "source": [
    "\n",
    "a = 350 \n",
    "b = 350\n",
    "\n",
    "print(a is b)\n",
    "print(id(a))\n",
    "print(id(b))"
   ]
  },
  {
   "cell_type": "markdown",
   "id": "94de8688-eaf0-47af-ae86-eb5d48ade16e",
   "metadata": {},
   "source": [
    "# Q. Arithmetic Operations on int. Take two different integer values. Store them in two different variables.\n",
    "- Do below operations on them:-\n",
    "-  Find sum of both numbers\n",
    "-  Find difference between them\n",
    "-  Find the product of both numbers.\n",
    "-  Find value after dividing first num with second number\n",
    "-  Find the remainder after dividing first number with second number\n",
    "-  Find the quotient after dividing first number with second number\n",
    "-  Find the result of the first num to the power of the second number.\n",
    "\n",
    "\n"
   ]
  },
  {
   "cell_type": "code",
   "execution_count": 20,
   "id": "5dba85b4",
   "metadata": {},
   "outputs": [
    {
     "name": "stdout",
     "output_type": "stream",
     "text": [
      "13\n",
      "7\n",
      "30\n",
      "3.3333333333333335\n",
      "1\n",
      "3\n",
      "1000\n"
     ]
    }
   ],
   "source": [
    "a = 10\n",
    "b = 3\n",
    "\n",
    "print(a+b)\n",
    "print(a-b)\n",
    "print(a*b)\n",
    "print(a/b)\n",
    "print(a%b)\n",
    "print(a//b)\n",
    "print(a**b)"
   ]
  },
  {
   "cell_type": "markdown",
   "id": "65c69afc-1042-49f5-aebb-8b2dce6d0461",
   "metadata": {},
   "source": [
    "# Q. Comparison Operators on integers Take two different integer values. Store them in two different variables.\n",
    "- Do below operations on them:-\n",
    "-  Compare se two numbers with below operator:-\n",
    "-  Greater than, '>'\n",
    "-  Smaller than, '<'\n",
    "-  Greater than or equal to, '>='\n",
    "-  Less than or equal to, '<='\n",
    "- Observe their output(return type should be boolean)\n"
   ]
  },
  {
   "cell_type": "code",
   "execution_count": 5,
   "id": "40e2b808",
   "metadata": {},
   "outputs": [
    {
     "name": "stdout",
     "output_type": "stream",
     "text": [
      "True\n",
      "False\n",
      "True\n",
      "False\n"
     ]
    }
   ],
   "source": [
    "a=35\n",
    "b=29\n",
    "\n",
    "print(a>b)\n",
    "print(a<b)\n",
    "print(a>=b)\n",
    "print(a<=b)"
   ]
  },
  {
   "cell_type": "markdown",
   "id": "62b69fe1-a84b-4dea-b70f-ce5e44839400",
   "metadata": {},
   "source": [
    "# . Equality Operator Take two different integer values.Store them in two different variables.\n",
    "- Equate them using equality operators (==, !=)\n",
    "- Observe the output(return type should be boolean)\n"
   ]
  },
  {
   "cell_type": "code",
   "execution_count": 6,
   "id": "72aa87dd",
   "metadata": {},
   "outputs": [
    {
     "name": "stdout",
     "output_type": "stream",
     "text": [
      "False\n",
      "True\n"
     ]
    }
   ],
   "source": [
    "\n",
    "a=19\n",
    "b=14\n",
    "\n",
    "print(a==b)\n",
    "print(a!=b)"
   ]
  },
  {
   "cell_type": "markdown",
   "id": "1ca402c8-da0a-461e-b2a6-7a197733aef0",
   "metadata": {},
   "source": [
    "# Q. Logical operators. Observe the output of below code\n",
    "- Cross check the output manually"
   ]
  },
  {
   "cell_type": "code",
   "execution_count": 7,
   "id": "1e9d6be1",
   "metadata": {},
   "outputs": [
    {
     "name": "stdout",
     "output_type": "stream",
     "text": [
      "20\n",
      "0\n",
      "0\n",
      "0\n",
      "10\n",
      "20\n",
      "20\n",
      "0\n",
      "False\n",
      "True\n"
     ]
    }
   ],
   "source": [
    "\n",
    "\n",
    "print(10 and 20) #10 and 20 ---> result will be 10 if 10 is False else 20 \n",
    "#----------------------------------------->Output is 20\n",
    "\n",
    "\n",
    "print(0 and 20) #0 and 20 ---> result will be 0 if 0 is False \n",
    "#----------------------------------------->Output is 0\n",
    "\n",
    "\n",
    "print(20 and 0) #20 and 0 ---> result will be 20 if 20 is False else 0 \n",
    "#----------------------------------------->Output is 0\n",
    "\n",
    "\n",
    "print(0 and 0) #0 and 0 ---> result will be 0 if 0 is False \n",
    "#----------------------------------------->Output is 0\n",
    "\n",
    "\n",
    "print(10 or 20) #10 or 20 ---> result will be 10 if 10 is True \n",
    "#----------------------------------------->Output is 10\n",
    "\n",
    "\n",
    "print(0 or 20) #0 or 20 ---> result will be 0 if 0 is True else 20\n",
    "#----------------------------------------->Output is 20\n",
    "\n",
    "\n",
    "print(20 or 0) #20 or 0 ---> result will be 20 if 20 is True \n",
    "#----------------------------------------->Output is 20\n",
    "\n",
    "\n",
    "print(0 or 0)  #0 or 0 ---> result will be 0 if 0 is True else 0\n",
    "#----------------------------------------->Output is 0\n",
    "\n",
    "\n",
    "print(not 10) # 10 --> result will be Flase \n",
    "#----------------------------------------->Output is False\n",
    "\n",
    "\n",
    "print(not 0) # 0 --> result will be True \n",
    "#----------------------------------------->Output is True"
   ]
  },
  {
   "cell_type": "markdown",
   "id": "77f0c52e-68e2-4c8c-9db0-2be0362d17ed",
   "metadata": {},
   "source": [
    "# Q. Bitwise Operators"
   ]
  },
  {
   "cell_type": "code",
   "execution_count": 8,
   "id": "07b51045",
   "metadata": {},
   "outputs": [
    {
     "name": "stdout",
     "output_type": "stream",
     "text": [
      "0\n"
     ]
    }
   ],
   "source": [
    "\n",
    "# Do below operations on the values provided below:-\n",
    "\n",
    "\n",
    "#  Bitwise and(&) -----------------------------------------> 10, 20 -------> Output is 0\n",
    "a=10 # Binary Value is 0 1 0 1 0\n",
    "b=20 # Binary Value is 1 0 1 0 0 \n",
    "    # & is Multipl.    0 0 0 0 0  int(0b0000)\n",
    "print( a & b) \n"
   ]
  },
  {
   "cell_type": "code",
   "execution_count": 9,
   "id": "d0da5a62",
   "metadata": {},
   "outputs": [
    {
     "name": "stdout",
     "output_type": "stream",
     "text": [
      "30\n"
     ]
    }
   ],
   "source": [
    "#  Bitwise or(|) -----------------------------------------> 10, 20  -------> Output is 30\n",
    "\n",
    "a = 10 # Binary Value is  0 1 0 1 0\n",
    "b=20   # Binary Value is  1 0 1 0 0 \n",
    "       #  | is            1 1 1 1 0  int(0b11110)\n",
    "b = 20 \n",
    "\n",
    "print(a|b)"
   ]
  },
  {
   "cell_type": "code",
   "execution_count": 10,
   "id": "b6bbcfa6",
   "metadata": {},
   "outputs": [
    {
     "name": "stdout",
     "output_type": "stream",
     "text": [
      "30\n"
     ]
    }
   ],
   "source": [
    "#  Bitwise(^) -----------------------------------------> 10, 20  -------> Output is 30\n",
    "\n",
    "a = 10 # Binary Value is  0 1 0 1 0\n",
    "b=20   # Binary Value is  1 0 1 0 0 \n",
    "       # ^ is             1 1 1 1 0  int(0b11110)\n",
    "b = 20 \n",
    "\n",
    "print(a^b)"
   ]
  },
  {
   "cell_type": "code",
   "execution_count": 11,
   "id": "077cf164",
   "metadata": {},
   "outputs": [
    {
     "name": "stdout",
     "output_type": "stream",
     "text": [
      "-11\n"
     ]
    }
   ],
   "source": [
    "#  Bitwise negation(~) ------------------------------------> 10 -------> Output is -11\n",
    "\n",
    "a=10 # add 1 into Existing Value and Its creat an  opposite sign \n",
    "\n",
    "print(~a)"
   ]
  },
  {
   "cell_type": "code",
   "execution_count": 12,
   "id": "526373a4",
   "metadata": {},
   "outputs": [
    {
     "name": "stdout",
     "output_type": "stream",
     "text": [
      "40\n"
     ]
    }
   ],
   "source": [
    "#  Bitwise left shift ------------------------------------> 10,2  -------> Output is 40\n",
    "\n",
    "a = 10 # Binary Value is  1 0 1 0 0 0 \n",
    "b = 2  # zero end of binary value  add-------> ^ ^   According A*(2**n) = 10*(2**2)\n",
    "                                         # int(0b101000)\n",
    "\n",
    "print(a<<b)"
   ]
  },
  {
   "cell_type": "code",
   "execution_count": 13,
   "id": "a0e75b6a",
   "metadata": {},
   "outputs": [
    {
     "name": "stdout",
     "output_type": "stream",
     "text": [
      "2\n"
     ]
    }
   ],
   "source": [
    "#  Bitwise right shift ------------------------------------> 10,2 -------> Output is 2\n",
    "\n",
    "a = 10 # Binary Value is   0  0  1  0  \n",
    "b = 2  # zero add before the binary value of a add^   According A//(2**n) = 10//(2**2)\n",
    "                                         # int(0b0010)\n",
    "\n",
    "print(a>>b)"
   ]
  },
  {
   "cell_type": "markdown",
   "id": "4d959733-ea02-4e93-b742-1733e5bf7f34",
   "metadata": {},
   "source": [
    "# Q. What is the output of expression inside print statement. Cross check before running the program.\n"
   ]
  },
  {
   "cell_type": "code",
   "execution_count": 14,
   "id": "c990d506",
   "metadata": {},
   "outputs": [
    {
     "name": "stdout",
     "output_type": "stream",
     "text": [
      "True\n",
      "False\n",
      "-------------------\n",
      "False\n",
      "True\n"
     ]
    }
   ],
   "source": [
    "a = 10\n",
    "b = 10\n",
    "\n",
    "print(a is b) #--> True \n",
    "print(a is not b) #--> False\n",
    "\n",
    "print('-------------------')\n",
    "\n",
    "a = 1000\n",
    "b = 1000\n",
    "\n",
    "print(a is b) #--> False\n",
    "print(a is not b)#-->  True"
   ]
  },
  {
   "cell_type": "markdown",
   "id": "d4c38a0a-43cd-494f-bad4-37d1e74afd30",
   "metadata": {},
   "source": [
    "# Q. What is the output of expression inside print statement. Cross check before running the program.\n"
   ]
  },
  {
   "cell_type": "code",
   "execution_count": 24,
   "id": "6eb2d263-ece6-4249-8ef2-49499da6701e",
   "metadata": {},
   "outputs": [
    {
     "name": "stdout",
     "output_type": "stream",
     "text": [
      "20\n"
     ]
    }
   ],
   "source": [
    "print(10+(10*32)//2**5&20+(~(-10))<<2)  #--> ans is 20"
   ]
  },
  {
   "cell_type": "markdown",
   "id": "fda0cbe7-ec18-4515-80f9-027999262ca0",
   "metadata": {},
   "source": [
    "# Q.Membership operation  in, not in are two membership operators and it returns boolean value\n"
   ]
  },
  {
   "cell_type": "code",
   "execution_count": 22,
   "id": "0b56129d",
   "metadata": {},
   "outputs": [
    {
     "name": "stdout",
     "output_type": "stream",
     "text": [
      "True\n",
      "True\n",
      "True\n",
      "True\n",
      "True\n",
      "True\n"
     ]
    }
   ],
   "source": [
    "print('2' in 'Python2.7.8')             #--> True \n",
    "print(10 in [10,10.20,10+20j,'Python']) #--> True \n",
    "print(10 in (10,10.20,10+20j,'Python')) # --> True \n",
    "print(2 in {1,2,3})                     #--> True \n",
    "print(3 in {1:100, 2:200, 3:300})       #--> True \n",
    "print(10 in range(20))                  #--> True "
   ]
  },
  {
   "cell_type": "markdown",
   "id": "eb2ec005-b4bf-4958-86c5-86178d078d76",
   "metadata": {},
   "source": [
    "# Q. An integer can be represented in binary, octal or hexadecimal form. Declare one binary, one octal and one hexadecimal value and store them in three different variables. Convert 9876 to its binary, octal and hexadecimal equivalent and print their corresponding value."
   ]
  },
  {
   "cell_type": "code",
   "execution_count": 21,
   "id": "1b8c16b2",
   "metadata": {},
   "outputs": [
    {
     "name": "stdout",
     "output_type": "stream",
     "text": [
      "80\n",
      "3870\n",
      "64222\n",
      "0b1010000\n",
      "0o7436\n",
      "0xfade\n",
      "0b1010000\n",
      "0b1111101011011110\n",
      "0o175336\n",
      "0o7436\n",
      "0x50\n",
      "0xfade\n"
     ]
    }
   ],
   "source": [
    "# Q. What will be the output of following:-\n",
    "    \n",
    "a = 0b1010000\n",
    "print(a)\n",
    "b = 0o7436\n",
    "print(b)\n",
    "c = 0xfade\n",
    "print(c)\n",
    "print(bin(80))\n",
    "print(oct(3870))\n",
    "print(hex(64222))\n",
    "print(bin(0b1010000))\n",
    "print(bin(0xfade))\n",
    "print(oct(0xfade))\n",
    "print(oct(0o7436))\n",
    "print(hex(0b1010000))\n",
    "print(hex(0xfade))"
   ]
  },
  {
   "cell_type": "code",
   "execution_count": null,
   "id": "63c1ec8c-c6a9-46ef-976c-c502779a6d91",
   "metadata": {},
   "outputs": [],
   "source": []
  }
 ],
 "metadata": {
  "kernelspec": {
   "display_name": "Python 3 (ipykernel)",
   "language": "python",
   "name": "python3"
  },
  "language_info": {
   "codemirror_mode": {
    "name": "ipython",
    "version": 3
   },
   "file_extension": ".py",
   "mimetype": "text/x-python",
   "name": "python",
   "nbconvert_exporter": "python",
   "pygments_lexer": "ipython3",
   "version": "3.12.7"
  }
 },
 "nbformat": 4,
 "nbformat_minor": 5
}

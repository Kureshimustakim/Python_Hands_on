{
 "cells": [
  {
   "cell_type": "markdown",
   "metadata": {},
   "source": [
    "# Q. Declare a string and store it in a variable. "
   ]
  },
  {
   "cell_type": "code",
   "execution_count": null,
   "metadata": {
    "id": "OG2JlAXx3VoJ"
   },
   "outputs": [],
   "source": [
    "# Declare a string and store it in a variable\n",
    "a = 'Data_Science_Batch_1st_Dec'\n",
    "b = 'Data_Science_Batch_1st_Dec'\n",
    "\n",
    "# Check the type and print the id of the same\n",
    "print(a, type(a))\n",
    "print(b, type(b))\n",
    "print(id(a))\n",
    "print(id(b))"
   ]
  },
  {
   "cell_type": "markdown",
   "metadata": {},
   "source": [
    "# Q. Which are valid/invalid strings"
   ]
  },
  {
   "cell_type": "code",
   "execution_count": null,
   "metadata": {
    "id": "wPxm3G8W3dqN"
   },
   "outputs": [],
   "source": [
    "# Valid and Invalid Strings Checks \n",
    "\n",
    "1. 'This is Python class' \n",
    "# ans --> Valid\n",
    "\n",
    "2. \"This is Python class\" \n",
    "# ans --> Valid\n",
    "\n",
    "3. '''This is Python class''' \n",
    "# ans --> Valid\n",
    "\n",
    "\n",
    "4. \"\"\"This is Python class\"\"\"\n",
    "# ans --> Valid\n",
    "\n",
    "5. 'This is Python's class'\n",
    "# ans --> Invalid\n",
    "\n",
    "6. \"Tutort provides \"Java\", \"Python\" classes\"\n",
    "# ans --> Invalid\n",
    "\n",
    "7. \"Tutort provides 'Java', 'Python' classes\"\n",
    "# ans --> Valid\n",
    "\n",
    "8. \"This is Python's class\"\n",
    "# ans --> Valid\n",
    "\n",
    "9. \"\"\"Tutort provides \"Java\", \"Python\" classes\"\"\"\n",
    "# ans --> Valid\n",
    "\n",
    "10. '''Tutort provides \"Java\", \"Python\" classes'''\n",
    "# ans --> Valid\n",
    "\n",
    "11. '''Tutort provides\n",
    "\"Java\", \"Python\" \n",
    "classes'''\n",
    "# ans --> Valid\n",
    "\n",
    "12. 'This is\n",
    "     Python \n",
    "     class'\n",
    "# ans --> Invalid"
   ]
  },
  {
   "cell_type": "markdown",
   "metadata": {},
   "source": [
    "# Q. Write the code to get the output mentioned below print statement"
   ]
  },
  {
   "cell_type": "code",
   "execution_count": 8,
   "metadata": {
    "id": "Drx8fhT23g7a"
   },
   "outputs": [
    {
     "name": "stdout",
     "output_type": "stream",
     "text": [
      "THe Length of my_str is : 66\n",
      "id of my_str and my_str1 is same ? False\n",
      "Type of my_str is: <class 'str'>\n"
     ]
    }
   ],
   "source": [
    "my_str = \"Although that way may not be obvious at first unless you're Dutch.\"\n",
    "my_str1 = \"Although that way may not be obvious at first unless you're Dutch.\"\n",
    "\n",
    "print('THe Length of my_str is :',len(my_str))\n",
    "#output:- The length of my_str is 66\n",
    "\n",
    "print('id of my_str and my_str1 is same ?', my_str is my_str1)\n",
    "#output:- id of my_str and my_str1 is same? - True\n",
    "\n",
    "print('Type of my_str is:',type(my_str))\n",
    "#output:- Type of my_str is: str"
   ]
  },
  {
   "cell_type": "markdown",
   "metadata": {},
   "source": [
    "# Indexing"
   ]
  },
  {
   "cell_type": "code",
   "execution_count": 9,
   "metadata": {
    "id": "403e-I3A3lCO"
   },
   "outputs": [
    {
     "name": "stdout",
     "output_type": "stream",
     "text": [
      "A\n",
      "h\n",
      " \n",
      "h\n",
      "h\n",
      "8\n"
     ]
    }
   ],
   "source": [
    "# Write the code to get the output,instructions are mentioned below print statement. use indexing\n",
    "my_str = \"Although 8 that way may not be obvious at first unless you're Dutch\"\n",
    "\n",
    "print(my_str[0])\n",
    "# output:- The first character in my_str is: A\n",
    "# Note:- Use positive indexing\n",
    "\n",
    "print(my_str[(len(my_str) - 1)])\n",
    "# output:- The last character in my_str is: h\n",
    "# Note:- Use len() function.\n",
    "\n",
    "print(my_str[10])\n",
    "# output:- The character at index 10 in my_str is: ' '\n",
    "# Note:- Use positive indexing\n",
    "\n",
    "print(my_str[-1])\n",
    "# output:- The last character in my_str is: h\n",
    "# Note:- Use negative indexing.\n",
    "\n",
    "print(my_str[(len(my_str) - 1)])\n",
    "# output:- The last character in my_str is: h\n",
    "# Note:- Use len() function.\n",
    "\n",
    "print(my_str[9])\n",
    "# output:- The character in my_str is: 8\n",
    "# Note:- Use positive index"
   ]
  },
  {
   "cell_type": "markdown",
   "metadata": {},
   "source": [
    "# Slicing"
   ]
  },
  {
   "cell_type": "code",
   "execution_count": null,
   "metadata": {
    "id": "NK_QdtsM3luu"
   },
   "outputs": [],
   "source": [
    "# Write the code to get the output,instructions are mentioned below print statement. use slicing\n",
    "\n",
    "my_str = \"Although that way may not be obvious at first unless you're Dutch.\"\n",
    "\n",
    "print(my_str[:])\n",
    "# output:- You have sliced: Although that way may not be obvious at first unless you're Dutch.\n",
    "# Without begin, end and step\n",
    "\n",
    "print(my_str[0:len(my_str)])\n",
    "# output:- You have sliced: Although that way may not be obvious at first unless you're Dutch.\n",
    "# With begin as 0, end using len and without step\n",
    "\n",
    "print(my_str[::1])\n",
    "# output:- You have sliced: Although that way may not be obvious at first unless you're Dutch.\n",
    "# Without begin and end but using step\n",
    "\n",
    "print(my_str[0:68:1])\n",
    "# output:- You have sliced: Although that way may not be obvious at first unless you're Dutch.\n",
    "# With begin, end and step\n",
    "\n",
    "print(my_str[0:68:-1])\n",
    "# output:- You have sliced: \n",
    "# With using begin and end using positive values and step as negative values (empty string)\n",
    "\n",
    "print(my_str[0:68:2])\n",
    "# output:- You have sliced: Atog htwymyntb biu tfrtuls o'eDth\n",
    "\n",
    "print(my_str[0:68:3])\n",
    "# output:- You have sliced: Ahgttam tebo  r lsorDc\n",
    "\n",
    "print(my_str[::-1])\n",
    "# output:- You have sliced: .hctuD er'uoy sselnu tsrif ta suoivbo eb ton yam yaw taht hguohtlA\n",
    "# Use only step\n",
    "\n",
    "print(my_str[-1:-69:-1])\n",
    "# output:- You have sliced: .hctuD er'uoy sselnu tsrif ta suoivbo eb ton yam yaw taht hguohtlA\n",
    "# Use begin, end and step\n",
    "\n",
    "print(my_str[::-2])\n",
    "# output:- You have sliced: .cu ruysen si asovoe o a a athuhl.\n",
    "# Use only step\n",
    "\n",
    "print(my_str[-1:-69:-2])\n",
    "# output:- You have sliced: .cu ruysen si asovoe o a a athuhl.\n",
    "# Use begin, end and step\n",
    "\n",
    "print(my_str[10:17:-1])\n",
    "# output:- \n",
    "# This will print an empty string — begin < end and step is negative\n",
    "\n",
    "print(my_str[18:12:-1])\n",
    "# output:- You have sliced: yaw ta\n",
    "# Using begin, end and step\n",
    "\n",
    "print(my_str[-17:-10:1])\n",
    "# output:- You have sliced: ess you\n",
    "# Using begin, end and step\n"
   ]
  },
  {
   "cell_type": "markdown",
   "metadata": {},
   "source": [
    "# Basic operation on string"
   ]
  },
  {
   "cell_type": "code",
   "execution_count": null,
   "metadata": {
    "id": "qUSYa5x-3n5j"
   },
   "outputs": [],
   "source": [
    "# Write the code to get the output,instructions are mentioned below.\n",
    "\n",
    "str1 = 'Learnbay'\n",
    "str2 = 'Python'\n",
    "\n",
    "# Output is: LearnbayPython\n",
    "print(str1 + str2)\n",
    "\n",
    "# To get: Learnbay Python\n",
    "print(str1 + ' ' + str2)\n",
    "\n",
    "# Error: TypeError: can only concatenate str (not \"int\") to str\n",
    "a = 'python'\n",
    "b = 13\n",
    "# print(a + b)\n",
    "\n",
    "# Error: TypeError: can only concatenate str (not \"float\") to str\n",
    "a = 'python'\n",
    "b = 13.05\n",
    "# print(a + b)\n",
    "\n",
    "# Output is: LearnbayLearnbayLearnbay\n",
    "print(str1 * 3)\n",
    "\n",
    "# Error: TypeError: can't multiply sequence by non-int of type 'float'\n",
    "a = 'python'\n",
    "b = 13.05\n",
    "# print(a * b)\n",
    "\n",
    "# Error: TypeError: can't multiply sequence by non-int of type 'str'\n",
    "# print(str1 * str2)\n"
   ]
  },
  {
   "cell_type": "markdown",
   "metadata": {},
   "source": [
    "# Find below Output"
   ]
  },
  {
   "cell_type": "code",
   "execution_count": null,
   "metadata": {
    "id": "gREffmnr3s-p"
   },
   "outputs": [],
   "source": [
    "str1 = 'Python'\n",
    "str2 = 'Python'\n",
    "str3 = 'Python$'\n",
    "str4 = 'Python$'\n",
    "\n",
    "# print True by using identity operator between str1 and str2\n",
    "print(str1 is str2)  # True, both refer to same interned string\n",
    "\n",
    "# print False by using identity operator between str1 and str3\n",
    "print(str1 is str3)  # False, different strings (str3 has $)\n",
    "\n",
    "# print False by using identity operator between str4 and str3\n",
    "print(str3 is str4)  # False, though content same, these are different objects\n",
    "\n",
    "# Check if 'P' is available in str1 and print True by using membership operator\n",
    "print('P' in str1)  # True\n",
    "\n",
    "# Check if '$' is available in str3 and print True by using membership operator\n",
    "print('$' in str3)  # True\n",
    "\n",
    "# Check if 'N' is available in str3 and print False by using membership operator\n",
    "print('N' in str3)  # False\n"
   ]
  },
  {
   "cell_type": "code",
   "execution_count": null,
   "metadata": {
    "id": "QNFjxDr73u2H"
   },
   "outputs": [],
   "source": [
    "# Complete the below code\n",
    "\n",
    "str1 = 'This is Python class'\n",
    "\n",
    "# write the code to replace 'Python' with 'Java' and you should get below error.\n",
    "# TypeError: 'str' object does not support item assignment.\n",
    "\n",
    "str1[8:14]=\"Java\""
   ]
  },
  {
   "cell_type": "code",
   "execution_count": null,
   "metadata": {
    "id": "-JgFbPmn3w3D"
   },
   "outputs": [],
   "source": [
    "str1 = 'A'\n",
    "str2 = 'A'\n",
    "\n",
    "# Compare str1 and str2 and print True using comparison operator\n",
    "print(str1 is str2)  # True\n",
    "\n",
    "# Compare str1 and str2 and print True using equality operator\n",
    "print(str1 == str2)  # True\n",
    "\n",
    "# Compare str1 and str2 and print False using equality operator\n",
    "print(str1 != str2)  # False\n",
    "\n",
    "# Compare str1 and str2 and print False using comparison operator\n",
    "print(str1 is not str2)  # False\n"
   ]
  },
  {
   "cell_type": "code",
   "execution_count": null,
   "metadata": {
    "id": "fJ46_L-53yhW"
   },
   "outputs": [],
   "source": [
    "str1 = 'A'\n",
    "str2 = 'a'\n",
    "\n",
    "# Compare str1 and str2 and print True using comparison operator\n",
    "print(str1 is not str2)  # True\n",
    "\n",
    "# Compare str1 and str2 and print True using equality operator\n",
    "print(str1 != str2)  # True\n",
    "\n",
    "# Compare str1 and str2 and print False using equality operator\n",
    "print(str1 == str2)  # False\n",
    "\n",
    "# Compare str1 and str2 and print False using comparison operator\n",
    "print(str1 is str2)  # False\n"
   ]
  },
  {
   "cell_type": "code",
   "execution_count": null,
   "metadata": {
    "id": "e-Lr9va330gi"
   },
   "outputs": [],
   "source": [
    "str1 = 'A'\n",
    "str2 = 65\n",
    "\n",
    "# This will give an error because you can't compare string and int using '>='\n",
    "# TypeError: '>=' not supported between instances of 'str' and 'int'\n",
    "# print(str1 >= str2)  # Uncommenting this line will raise the error\n",
    "\n",
    "# Compare str1 and str2 and print True using inequality operator\n",
    "print(str1 != str2)  # True, because 'A' (str) is not equal to 65 (int)\n",
    "\n",
    "# Compare str1 and str2 and print False using equality operator\n",
    "print(str1 == str2)  # False, different types and values\n"
   ]
  },
  {
   "cell_type": "code",
   "execution_count": 10,
   "metadata": {
    "id": "JO04jmpN32Im"
   },
   "outputs": [
    {
     "name": "stdout",
     "output_type": "stream",
     "text": [
      "True\n",
      "True\n",
      "False\n",
      "False\n"
     ]
    }
   ],
   "source": [
    "str1 = 'Python'\n",
    "str2 = 'Python'\n",
    "\n",
    "# Compare str1 and str2 and print True using comparison operator\n",
    "print(str1 is str2)  # True\n",
    "\n",
    "# Compare str1 and str2 and print True using equality operator\n",
    "print(str1 == str2)  # True\n",
    "\n",
    "# Compare str1 and str2 and print False using equality operator\n",
    "print(str1 != str2)  # False\n",
    "\n",
    "# Compare str1 and str2 and print False using comparison operator\n",
    "print(str1 is not str2)  # False\n"
   ]
  },
  {
   "cell_type": "code",
   "execution_count": null,
   "metadata": {
    "id": "nmVAYYC_35ip"
   },
   "outputs": [],
   "source": [
    "str1 = 'Python'\n",
    "str2 = 'python'\n",
    "\n",
    "# Compare str1 and str2 and print True using comparison operator\n",
    "print(str1 is not str2)  # True\n",
    "\n",
    "# Compare str1 and str2 and print True using equality operator\n",
    "print(str1 != str2)  # True\n",
    "\n",
    "# Compare str1 and str2 and print False using equality operator\n",
    "print(str1 == str2)  # False\n",
    "\n",
    "# Compare str1 and str2 and print False using comparison operator\n",
    "print(str1 is str2)  # False\n"
   ]
  },
  {
   "cell_type": "code",
   "execution_count": null,
   "metadata": {
    "id": "7ulv5ith37OJ"
   },
   "outputs": [],
   "source": [
    "a = 'Python'\n",
    "b = ''\n",
    "\n",
    "# Apply logical opereators (and, or & not) on above string values and observe the output.\n",
    "\n",
    "print(a and b)  # '' → Returns b because a it's Truthy\n",
    "print(a or b)   # '' → a is Truthy, so returns a \n",
    "print(not a)    # False → a is Truthy, so not a is False\n",
    "print(not b)    # True → b is falsy, so not b is True"
   ]
  },
  {
   "cell_type": "code",
   "execution_count": null,
   "metadata": {
    "id": "Yg_gsZBL383n"
   },
   "outputs": [],
   "source": [
    "a = 'Python'\n",
    "b = 'Learnbay'\n",
    "\n",
    "# Apply logical operators and print results\n",
    "\n",
    "print(a and b)  # Output: 'Learnbay' → both are truthy, so returns second operand (b)\n",
    "print(a or b)   # Output: 'Python'  → 'a' is truthy, so returns first operand (a)\n",
    "print(not a)    # Output: False     → 'a' is truthy, so not a is False\n",
    "print(not b)    # Output: False     → 'b' is truthy, so not b is False\n"
   ]
  },
  {
   "cell_type": "code",
   "execution_count": null,
   "metadata": {
    "id": "cIWkP9Hf3-q5"
   },
   "outputs": [],
   "source": [
    "a = 'Python'\n",
    "b = 'Learnbay'\n",
    "\n",
    "# Apply logical operators and print the outputs\n",
    "print(a and b)  # Output: Learnbay (both non-empty strings are truthy, so returns b)\n",
    "print(a or b)   # Output: Python  (a is truthy, so returns a)\n",
    "print(not a)    # Output: False   (a is truthy, so not a is False)\n",
    "print(not b)    # Output: False   (b is truthy, so not b is False)\n"
   ]
  },
  {
   "cell_type": "code",
   "execution_count": null,
   "metadata": {
    "id": "Y0Ot_E704AX5"
   },
   "outputs": [],
   "source": [
    "my_str = \"Although 8 that way may not be obvious at first unless you're Dutch\"\n",
    "\n",
    "# Write the code to get the total count of 't' in above string. Use find() and index() method.\n",
    "print(my_str.count('t'))\n",
    "print(my_str.find('t'))\n",
    "print(my_str.index('t'))\n",
    "\n",
    "# Write the code to get the index of '8' in my_str. Use find() and index() method.\n",
    "\n",
    "print(my_str.index('8'))\n",
    "print(my_str.find('8'))\n",
    "\n",
    "# What will be the output of below code?\n",
    "# print(my_str.find('the')) --> -1\n",
    "\n",
    "# print(my_str.index('the')) --> Sub String Not Found \n",
    "\n",
    "# print(my_str.find('t', 9, 15)) --> 11\n",
    "\n",
    "# print(my_str.rfind('u')) --> 63 \n",
    "\n",
    "# print(my_str.rindex('u')) --> 63 "
   ]
  },
  {
   "cell_type": "markdown",
   "metadata": {},
   "source": [
    "# W.A.P which applies strip() method if any string, which will be taken from user, starts and ends with space, or applies \n",
    "- rrstrip() method if that string only ends with space  or\n",
    "- applies lstrip() method if that string only starts with a space.\n"
   ]
  },
  {
   "cell_type": "code",
   "execution_count": null,
   "metadata": {
    "id": "Gommq59Q4CMi"
   },
   "outputs": [],
   "source": [
    "# For example:-\n",
    "                #input:- '    Python   '\n",
    "                #output:- 'Python'\n",
    "                \n",
    "                #input:- '    Python'\n",
    "                #output:- 'Python'\n",
    "                  \n",
    "                #input:- 'Python   '\n",
    "                #output:- 'Python'\n",
    "\n",
    "\n",
    "# Remove spaces from both sides\n",
    "Input = input('Enter the Word With Both Side Of Space: ')\n",
    "print(Input.strip())\n",
    "\n",
    "# Remove spaces from left side only\n",
    "Input1 = input('Enter the Word With Left Side Of Space: ')\n",
    "print(Input1.lstrip())\n",
    "\n",
    "# Remove spaces from right side only\n",
    "Input2 = input('Enter the Word With Right Side Of Space: ')\n",
    "print(Input2.rstrip())\n"
   ]
  },
  {
   "cell_type": "code",
   "execution_count": null,
   "metadata": {
    "id": "9IUy-cpS4Dtt"
   },
   "outputs": [],
   "source": [
    "my_str = \"Although 8 that way may not be obvious at first unless you're Dutch\"\n",
    "\n",
    "# Convert all alphabets to uppercase\n",
    "print(my_str.upper())  \n",
    "\n",
    "# Convert all alphabets to lowercase\n",
    "print(my_str.lower())  \n",
    "\n",
    "# Swap the case of all alphabets (lower to upper, upper to lower)\n",
    "print(my_str.swapcase())  \n"
   ]
  },
  {
   "cell_type": "markdown",
   "metadata": {},
   "source": [
    "# Q. Write the code which takes one string from user and if it starts with small case letter then convert it to corresponding capital letter otherwise if starts with capital letters then convert first character of every word in that string into capital."
   ]
  },
  {
   "cell_type": "code",
   "execution_count": null,
   "metadata": {
    "id": "-BjS-z674HKW"
   },
   "outputs": [],
   "source": [
    "# Get input string from the user\n",
    "user_input = input(\"Enter a string: \")\n",
    "\n",
    "# Check if the first character is a lowercase letter\n",
    "if user_input[0].islower():\n",
    "    # Convert the first character to uppercase\n",
    "    modified_str = user_input[0].upper() + user_input[1:]\n",
    "else:\n",
    "    # Convert the first character of every word to uppercase\n",
    "    modified_str = user_input.title()\n",
    "\n",
    "# Print the modified string\n",
    "print(\"Modified string :-\", modified_str)"
   ]
  },
  {
   "cell_type": "markdown",
   "metadata": {
    "id": "-MCuDy5J4JQS"
   },
   "source": [
    "# Take a string from user and check if it is:-\n",
    "- 1. alphanumeric\n",
    "- 2. alphabets\n",
    "- 3. digit\n",
    "- 4. all letters are in lower case\n",
    "- 5. all letters are in upper case\n",
    "- 6. in title case\n",
    "- 7. a space character\n",
    "- 8. numeric\n",
    "- 9. all number elements in string are decimal\n",
    "\n"
   ]
  },
  {
   "cell_type": "markdown",
   "metadata": {},
   "source": [
    "# Q. W.A.P which takes a string as an input and prints True if the string is valid identifier else returns False.\n",
    "- Sample Input:- 'abc', 'abc1', 'ab1c', '1abc', 'abc$', '_abc', 'if'\n"
   ]
  },
  {
   "cell_type": "code",
   "execution_count": null,
   "metadata": {
    "id": "tiTN-4ik4KAG"
   },
   "outputs": [],
   "source": [
    "\n",
    "a=input('Enter The Input :')\n",
    "\n",
    "print(a.isidentifier())"
   ]
  },
  {
   "cell_type": "markdown",
   "metadata": {},
   "source": [
    "# Q. What will be output of below code?"
   ]
  },
  {
   "cell_type": "code",
   "execution_count": null,
   "metadata": {
    "id": "tAMkSIN84MPe"
   },
   "outputs": [],
   "source": [
    "\n",
    "s = chr(65) + chr(97)  \n",
    "print(s.isprintable()) # --> True \n",
    "\n",
    "s = chr(27) + chr(97)\n",
    "print(s.isprintable()) # --> False \n",
    "\n",
    "s = '\\n'\n",
    "print(s.isprintable()) # --> False\n",
    "\n",
    "s = ''\n",
    "print(s.isprintable()) # --> True "
   ]
  },
  {
   "cell_type": "markdown",
   "metadata": {},
   "source": [
    "# Q. What will be output of below code?"
   ]
  },
  {
   "cell_type": "code",
   "execution_count": null,
   "metadata": {
    "id": "pU9Os0mD4Pk1"
   },
   "outputs": [],
   "source": [
    "\n",
    "my_string = '  '\n",
    "print(my_string.isascii()) # --> True \n",
    "\n",
    "my_string = 'Studytonight'\n",
    "print(my_string.isascii()) # --> True \n",
    "\n",
    "my_string = 'Study tonight' # --> True \n",
    "print(my_string.isascii())\n",
    "\n",
    "my_string = 'Studytonight@123' # --> True \n",
    "print(my_string.isascii())\n",
    "\n",
    "my_string = '°' # --> False\n",
    "print(my_string.isascii())\n",
    "\n",
    "my_string = 'ö' # --> False \n",
    "print(my_string.isascii())"
   ]
  },
  {
   "cell_type": "markdown",
   "metadata": {},
   "source": [
    "# Q. What will be the output of below code?  "
   ]
  },
  {
   "cell_type": "code",
   "execution_count": 2,
   "metadata": {
    "id": "VsLV8FF74QTB"
   },
   "outputs": [
    {
     "name": "stdout",
     "output_type": "stream",
     "text": [
      "The strings are not equal.\n"
     ]
    }
   ],
   "source": [
    "\n",
    "firstString = \"der Fluß\"\n",
    "secondString = \"der Fluss\"\n",
    "\n",
    "if firstString.casefold() != secondString.casefold():\n",
    "    print('The strings are equal.')\n",
    "else:\n",
    "    print('The strings are not equal.')\n",
    "\n",
    "# ans --> The String are not equal "
   ]
  },
  {
   "cell_type": "markdown",
   "metadata": {},
   "source": [
    "# Q. Write the code to get below output\n"
   ]
  },
  {
   "cell_type": "code",
   "execution_count": null,
   "metadata": {
    "id": "1m0U7jLa4Wjf"
   },
   "outputs": [],
   "source": [
    "\n",
    "#O/P 1:- python** (using ljust method)\n",
    "a='python'\n",
    "print(a.ljust(8,('*')))\n",
    "\n",
    "#Write the code to get below output\n",
    "#O/P 1:- **python (using rjust method)\n",
    "b='python'\n",
    "print(b.rjust(8,('*')))\n",
    "\n",
    "#Write the code to get below output\n",
    "#O/P 1:- **python** (using rjust method)\n",
    "c='python'\n",
    "print(c.rjust(8,('*')).ljust(10,'*'))"
   ]
  },
  {
   "cell_type": "markdown",
   "metadata": {},
   "source": [
    "# Q. Write a Python program to find the length of the my_str:-\n"
   ]
  },
  {
   "cell_type": "code",
   "execution_count": null,
   "metadata": {
    "id": "cRVkvW6s4YKK"
   },
   "outputs": [],
   "source": [
    "\n",
    "#Input:- 'Write a Python program to find the length of the my_str'\n",
    "#Output:- 55\n",
    "\n",
    "Input = 'Write a Python program to find the length of the my_str'\n",
    "\n",
    "print(len(Input))"
   ]
  },
  {
   "cell_type": "markdown",
   "metadata": {},
   "source": [
    "# Q. Write a Python program to find the total number of times letter 'p' is appeared in the below string:-"
   ]
  },
  {
   "cell_type": "code",
   "execution_count": null,
   "metadata": {
    "id": "SjABWI284Zuz"
   },
   "outputs": [],
   "source": [
    "\n",
    "    \n",
    "#Input:- 'peter piper picked a peck of pickled peppers.'\n",
    "#Output:- 9\n",
    "\n",
    "Input='peter piper picked a peck of pickled peppers.'\n",
    "print(Input.count('p'))"
   ]
  },
  {
   "cell_type": "markdown",
   "metadata": {},
   "source": [
    "# Q. Write a Python Program, to print all the indexes of all occurences of letter 'p' appeared in the string:-"
   ]
  },
  {
   "cell_type": "code",
   "execution_count": 11,
   "metadata": {
    "id": "-iZtqbEo4bQp"
   },
   "outputs": [
    {
     "name": "stdout",
     "output_type": "stream",
     "text": [
      "0\n",
      "6\n",
      "8\n",
      "12\n",
      "21\n",
      "29\n",
      "37\n",
      "39\n",
      "40\n"
     ]
    }
   ],
   "source": [
    "Input= 'peter piper picked a peck of pickled peppers.'\n",
    "\n",
    "#Output:- \n",
    "# 0\n",
    "# 6\n",
    "# 8\n",
    "# 12\n",
    "# 21\n",
    "# 29\n",
    "# 37\n",
    "# 39\n",
    "# 40\n",
    "\n",
    "for i, char in enumerate(Input):\n",
    "    if char == 'p':\n",
    "        print(i)"
   ]
  },
  {
   "cell_type": "markdown",
   "metadata": {},
   "source": [
    "# Q. Write a python program to find below output:-\n",
    "\n"
   ]
  },
  {
   "cell_type": "code",
   "execution_count": null,
   "metadata": {
    "id": "_A8Eu8f84daM"
   },
   "outputs": [],
   "source": [
    "#Input:- 'peter piper picked a peck of pickled peppers.'\n",
    "#Output:- ['peter', 'piper', 'picked', 'a', 'peck', 'of', 'pickled', 'peppers.']\n",
    "\n",
    "Input = 'peter piper picked a peck of pickled peppers.'\n",
    "\n",
    "print (Input.split())"
   ]
  },
  {
   "cell_type": "markdown",
   "metadata": {},
   "source": [
    "# Q. Write a python program to find below output:-"
   ]
  },
  {
   "cell_type": "code",
   "execution_count": null,
   "metadata": {
    "id": "juh7tQuL4fNc"
   },
   "outputs": [],
   "source": [
    "#Input:- 'peter piper picked a peck of pickled peppers.'\n",
    "#Output:- 'peppers. pickled of peck a picked piper peter'\n",
    "\n",
    "Input = 'peter piper picked a peck of pickled peppers.'\n",
    "Input_1=Input.split()\n",
    "print(Input_1.reverse())\n",
    "' '.join(Input_1)"
   ]
  },
  {
   "cell_type": "markdown",
   "metadata": {},
   "source": [
    "# Q. Write a python program to find below output:-"
   ]
  },
  {
   "cell_type": "code",
   "execution_count": null,
   "metadata": {
    "id": "aaHQYz194fW7"
   },
   "outputs": [],
   "source": [
    "#Input:- 'peter piper picked a peck of pickled peppers.'\n",
    "#Output:- '.sreppep delkcip fo kcep a dekcip repip retep'\n",
    "\n",
    "Input= 'peter piper picked a peck of pickled peppers.'\n",
    "\n",
    "print(Input[::-1])"
   ]
  },
  {
   "cell_type": "markdown",
   "metadata": {},
   "source": [
    "# Q. Write a python program to find below output:-"
   ]
  },
  {
   "cell_type": "code",
   "execution_count": null,
   "metadata": {
    "id": "LSgj9glC4feI"
   },
   "outputs": [],
   "source": [
    "#Input:- 'peter piper picked a peck of pickled peppers.'\n",
    "#Output:- 'retep repip dekcip a kcep fo delkcip .sreppep'\n",
    "\n",
    "Input= 'peter piper picked a peck of pickled peppers.'\n",
    "Input_1=Input.split()\n",
    "print(Input_1[0][::-1],Input_1[1][::-1],Input_1[2][::-1],Input_1[3][::-1],Input_1[4][::-1],Input_1[5][::-1],Input_1[6][::-1],Input_1[7][::-1])"
   ]
  },
  {
   "cell_type": "markdown",
   "metadata": {},
   "source": [
    "# Q. Write a python program to find below output:-"
   ]
  },
  {
   "cell_type": "code",
   "execution_count": null,
   "metadata": {
    "id": "WUxPAkY94foo"
   },
   "outputs": [],
   "source": [
    "#Input:- 'peter piper picked a peck of pickled peppers.'\n",
    "#Output:- 'Peter Piper Picked A Peck Of Pickled Peppers.'\n",
    "\n",
    "my_str= 'peter piper picked a peck of pickled peppers.'\n",
    "\n",
    "print(my_str.title())\n"
   ]
  },
  {
   "cell_type": "markdown",
   "metadata": {},
   "source": [
    "# Q. Write a python program to find below output:-"
   ]
  },
  {
   "cell_type": "code",
   "execution_count": null,
   "metadata": {
    "id": "IT1NSPxA4mww"
   },
   "outputs": [],
   "source": [
    "\n",
    "\n",
    "#Input:- 'Peter Piper Picked A Peck Of Pickled Peppers.'\n",
    "#Output:- 'Peter piper picked a peck of pickled peppers.'\n",
    "\n",
    "my_str='Peter Piper Picked A Peck Of Pickled Peppers.'\n",
    "\n",
    "print(my_str.capitalize())\n"
   ]
  },
  {
   "cell_type": "markdown",
   "metadata": {},
   "source": [
    "# Q. Write a python program to implement index method. If sub_str is found in my_str then it will print the index of first occurrence of first character of matching string in my_str:-"
   ]
  },
  {
   "cell_type": "code",
   "execution_count": null,
   "metadata": {
    "id": "3Gg65vSc4m3C"
   },
   "outputs": [],
   "source": [
    "\n",
    "\n",
    "#Input:- my_str = 'Peter Piper Picked A Peck Of Pickled Peppers.', sub_str = 'Pickl'\n",
    "#Output:- 29\n",
    "\n",
    "my_str = 'Peter Piper Picked A Peck Of Pickled Peppers.'\n",
    "    \n",
    "print(my_str.index(\"Pickl\"))"
   ]
  },
  {
   "cell_type": "markdown",
   "metadata": {},
   "source": [
    "# Q. Write a python program to implement replace method. If sub_str is found in my_str then it will replace the first occurrence of sub_str with new_str else it will will print sub_str not found:-"
   ]
  },
  {
   "cell_type": "code",
   "execution_count": null,
   "metadata": {
    "id": "iFRhp_JI4m6k"
   },
   "outputs": [],
   "source": [
    "\n",
    "\n",
    "#Input:- my_str = 'Peter Piper Picked A Peck Of Pickled Peppers.', sub_str = 'Peck', new_str = 'Pack'\n",
    "#Output:- 'Peter Piper Picked A Pack Of Pickled Peppers.'\n",
    "\n",
    "my_str = 'Peter Piper Picked A Peck Of Pickled Peppers.'\n",
    "    \n",
    "print(my_str.replace('Peck' ,'Pack'))"
   ]
  },
  {
   "cell_type": "markdown",
   "metadata": {},
   "source": [
    "# Q. Write a python program to find below output (implements rjust and ljust):-"
   ]
  },
  {
   "cell_type": "code",
   "execution_count": null,
   "metadata": {
    "id": "dQ9YhBBc4m9V"
   },
   "outputs": [],
   "source": [
    "\n",
    "#Input:- 'Peter Piper Picked A Peck Of Pickled Peppers.', sub_str = 'Peck', \n",
    "#Output:- '*********************Peck********************'\n",
    "\n",
    "Input= 'Peck'\n",
    "\n",
    "print(Input.ljust(25,'*').rjust(45,'*'))\n"
   ]
  },
  {
   "cell_type": "code",
   "execution_count": null,
   "metadata": {
    "id": "w37BRLdt4tYT"
   },
   "outputs": [],
   "source": []
  },
  {
   "cell_type": "code",
   "execution_count": null,
   "metadata": {
    "id": "W64gCpeu4vaF"
   },
   "outputs": [],
   "source": []
  }
 ],
 "metadata": {
  "colab": {
   "collapsed_sections": [],
   "name": "String_Assignment.ipynb",
   "provenance": []
  },
  "kernelspec": {
   "display_name": "Python 3 (ipykernel)",
   "language": "python",
   "name": "python3"
  },
  "language_info": {
   "codemirror_mode": {
    "name": "ipython",
    "version": 3
   },
   "file_extension": ".py",
   "mimetype": "text/x-python",
   "name": "python",
   "nbconvert_exporter": "python",
   "pygments_lexer": "ipython3",
   "version": "3.12.7"
  },
  "latex_envs": {
   "LaTeX_envs_menu_present": true,
   "autoclose": false,
   "autocomplete": true,
   "bibliofile": "biblio.bib",
   "cite_by": "apalike",
   "current_citInitial": 1,
   "eqLabelWithNumbers": true,
   "eqNumInitial": 1,
   "hotkeys": {
    "equation": "Ctrl-E",
    "itemize": "Ctrl-I"
   },
   "labels_anchors": false,
   "latex_user_defs": false,
   "report_style_numbering": false,
   "user_envs_cfg": false
  },
  "varInspector": {
   "cols": {
    "lenName": 16,
    "lenType": 16,
    "lenVar": 40
   },
   "kernels_config": {
    "python": {
     "delete_cmd_postfix": "",
     "delete_cmd_prefix": "del ",
     "library": "var_list.py",
     "varRefreshCmd": "print(var_dic_list())"
    },
    "r": {
     "delete_cmd_postfix": ") ",
     "delete_cmd_prefix": "rm(",
     "library": "var_list.r",
     "varRefreshCmd": "cat(var_dic_list()) "
    }
   },
   "types_to_exclude": [
    "module",
    "function",
    "builtin_function_or_method",
    "instance",
    "_Feature"
   ],
   "window_display": false
  }
 },
 "nbformat": 4,
 "nbformat_minor": 4
}

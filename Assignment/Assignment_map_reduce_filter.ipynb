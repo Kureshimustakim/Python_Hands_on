{
 "cells": [
  {
   "cell_type": "code",
   "execution_count": 1,
   "metadata": {},
   "outputs": [
    {
     "name": "stdout",
     "output_type": "stream",
     "text": [
      "Original list: [1, 2, 3, 4, 5]\n",
      "List after tripling each element using lambda: [3, 6, 9, 12, 15]\n"
     ]
    }
   ],
   "source": [
    "# Write a Python program to triple all numbers of a given list of integers. Use Python map\n",
    "\n",
    "# Example usage using lambda expressions\n",
    "input_numbers = [1, 2, 3, 4, 5]\n",
    "\n",
    "tripled_list = list(map(lambda x: x * 3, input_numbers))\n",
    "\n",
    "print(\"Original list:\", input_numbers)\n",
    "print(\"List after tripling each element using lambda:\", tripled_list)\n"
   ]
  },
  {
   "cell_type": "code",
   "execution_count": 1,
   "metadata": {},
   "outputs": [],
   "source": [
    "# Write a Python program to add three given lists using Python map and lambda\n",
    "\n",
    "# Example usage using only lambda expressions\n",
    "list1 = [1, 2, 3]\n",
    "list2 = [4, 5, 6]\n",
    "list3 = [7, 8, 9]\n",
    "\n",
    "result = list(map(lambda x, y, z: x + y + z, list1, list2, list3))\n",
    "\n",
    "print(\"List 1:\", list1)\n",
    "print(\"List 2:\", list2)\n",
    "print(\"List 3:\", list3)\n",
    "print(\"Result after adding three lists using lambda:\", result)\n"
   ]
  },
  {
   "cell_type": "code",
   "execution_count": null,
   "metadata": {},
   "outputs": [],
   "source": [
    "# Write a Python program to add two given lists and find the difference between lists\n",
    "\n",
    "\"\"\"\n",
    "sample list\n",
    "nums1 = [6, 5, 3, 9]\n",
    "nums2 = [0, 1, 7, 7]\n",
    "\n",
    "\n",
    "output  - [(6, 6), (6, 4), (10, -4), (16, 2)]\n",
    "\n",
    "\"\"\"\n",
    "\n",
    "# Example usage\n",
    "nums1 = [6, 5, 3, 9]\n",
    "nums2 = [0, 1, 7, 7]\n",
    "\n",
    "result = list(map(lambda x, y: (x + y, x - y), nums1, nums2))\n",
    "\n",
    "print(\"List 1:\", nums1)\n",
    "print(\"List 2:\", nums2)\n",
    "print(\"Result [(sum, difference)]:\", result)\n"
   ]
  },
  {
   "cell_type": "code",
   "execution_count": null,
   "metadata": {},
   "outputs": [],
   "source": [
    "# Write a Python program to convert all the characters in uppercase \n",
    "# and lowercase and eliminate duplicate letters from a given sequence\n",
    "a = 'this is PYTHONS class'\n",
    "\n",
    "# Example usage\n",
    "a = 'this is PYTHONS class'\n",
    "\n",
    "# Convert to uppercase and lowercase\n",
    "upper_case_result = ''.join(set(a.upper()))\n",
    "lower_case_result = ''.join(set(a.lower()))\n",
    "\n",
    "print(\"Original sequence:\", a)\n",
    "print(\"Uppercase without duplicates:\", upper_case_result)\n",
    "print(\"Lowercase without duplicates:\", lower_case_result)\n"
   ]
  },
  {
   "cell_type": "code",
   "execution_count": null,
   "metadata": {},
   "outputs": [],
   "source": [
    "# Filter out the fruits that start with A \n",
    "\n",
    "# Example usage\n",
    "fruits = ['Apple', 'Banana', 'Apricot', 'Orange', 'Avocado']\n",
    "\n",
    "filtered_fruits = list(filter(lambda x: x.lower().startswith('a'), fruits))\n",
    "\n",
    "print(\"Original list of fruits:\", fruits)\n",
    "print(\"Filtered fruits that start with 'A':\", filtered_fruits)\n"
   ]
  },
  {
   "cell_type": "code",
   "execution_count": null,
   "metadata": {},
   "outputs": [],
   "source": [
    "# Filter out the positve number from a list\n",
    "\n",
    "# Example usage\n",
    "numbers = [3, -5, 2, -8, 7, -1, 9, -4]\n",
    "\n",
    "positive_numbers = list(filter(lambda x: x > 0, numbers))\n",
    "\n",
    "print(\"Original list of numbers:\", numbers)\n",
    "print(\"Positive numbers:\", positive_numbers)\n"
   ]
  },
  {
   "cell_type": "code",
   "execution_count": null,
   "metadata": {},
   "outputs": [],
   "source": [
    "# filter out the multiples of 3 and 5 from a list\n",
    "\n",
    "# Example usage\n",
    "numbers = [2, 6, 10, 15, 21, 25, 30, 35]\n",
    "\n",
    "filtered_numbers = list(filter(lambda x: x % 3 != 0 and x % 5 != 0, numbers))\n",
    "\n",
    "print(\"Original list of numbers:\", numbers)\n",
    "print(\"Numbers not multiples of 3 and 5:\", filtered_numbers)\n"
   ]
  },
  {
   "cell_type": "code",
   "execution_count": null,
   "metadata": {},
   "outputs": [],
   "source": [
    "# find the max string using reuduce function\n",
    "\n",
    "from functools import reduce\n",
    "\n",
    "# Example usage\n",
    "strings = ['apple', 'banana', 'orange', 'kiwi', 'grape']\n",
    "\n",
    "max_string = reduce(lambda x, y: x if len(x) > len(y) else y, strings)\n",
    "\n",
    "print(\"Original list of strings:\", strings)\n",
    "print(\"Max string:\", max_string)\n"
   ]
  },
  {
   "cell_type": "code",
   "execution_count": null,
   "metadata": {},
   "outputs": [],
   "source": [
    "# find the mean , max and min of a given list using reduce function\n",
    "\n",
    "from functools import reduce\n",
    "\n",
    "# Example usage\n",
    "numbers = [5, 12, 8, 15, 3, 10]\n",
    "\n",
    "# Calculate mean, max, and min using reduce\n",
    "mean = reduce(lambda x, y: x + y, numbers) / len(numbers)\n",
    "max_value = reduce(lambda x, y: x if x > y else y, numbers)\n",
    "min_value = reduce(lambda x, y: x if x < y else y, numbers)\n",
    "\n",
    "print(\"Original list of numbers:\", numbers)\n",
    "print(\"Mean:\", mean)\n",
    "print(\"Max:\", max_value)\n",
    "print(\"Min:\", min_value)"
   ]
  }
 ],
 "metadata": {
  "kernelspec": {
   "display_name": "Python 3 (ipykernel)",
   "language": "python",
   "name": "python3"
  },
  "language_info": {
   "codemirror_mode": {
    "name": "ipython",
    "version": 3
   },
   "file_extension": ".py",
   "mimetype": "text/x-python",
   "name": "python",
   "nbconvert_exporter": "python",
   "pygments_lexer": "ipython3",
   "version": "3.12.7"
  }
 },
 "nbformat": 4,
 "nbformat_minor": 4
}

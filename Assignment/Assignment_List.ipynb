{
 "cells": [
  {
   "cell_type": "code",
   "execution_count": 1,
   "metadata": {
    "id": "gtlAv2oq9yzd"
   },
   "outputs": [
    {
     "name": "stdout",
     "output_type": "stream",
     "text": [
      "100\n"
     ]
    }
   ],
   "source": [
    "# Write a Python program to find the sum of all elements in a list using loop.\n",
    "#Input:- [10,20,30,40]\n",
    "#Output:- 100\n",
    "\n",
    "Input = [10,20,30,40]\n",
    "Output = 0\n",
    "\n",
    "for element in Input:\n",
    "    Output += element \n",
    "    \n",
    "print(Output)"
   ]
  },
  {
   "cell_type": "code",
   "execution_count": 2,
   "metadata": {
    "id": "gTbA8psa93Y_"
   },
   "outputs": [
    {
     "name": "stdout",
     "output_type": "stream",
     "text": [
      "240000\n"
     ]
    }
   ],
   "source": [
    "# Write a Python program to find the multiplication of all elements in a list using loop.\n",
    "#Input:- [10,20,30,40]\n",
    "#Output:- 240000\n",
    "\n",
    "Input = [10,20,30,40]\n",
    "Output = 1\n",
    "\n",
    "for element in Input:\n",
    "    Output *= element \n",
    "\n",
    "print(Output)"
   ]
  },
  {
   "cell_type": "code",
   "execution_count": 3,
   "metadata": {
    "id": "XBCrEtLN94Lj"
   },
   "outputs": [
    {
     "name": "stdout",
     "output_type": "stream",
     "text": [
      "2321\n"
     ]
    }
   ],
   "source": [
    "# Write a Python program to find the largest number from a list using loop.\n",
    "#Input:- [10,100,2321, 1,200,2]\n",
    "#Output:- 2321\n",
    "\n",
    "Input = [10,100,2321, 1,200,2]\n",
    "largest_number = float('-inf') # assign a infinite number in a nagative \n",
    "\n",
    "for i in Input:\n",
    "    if i > largest_number:\n",
    "        largest_number = i\n",
    "        \n",
    "print(largest_number)"
   ]
  },
  {
   "cell_type": "code",
   "execution_count": 4,
   "metadata": {
    "id": "l3paUtbH94Vw"
   },
   "outputs": [
    {
     "name": "stdout",
     "output_type": "stream",
     "text": [
      "1\n"
     ]
    }
   ],
   "source": [
    "# Write a Python program to find the smallest number from a list using loop.\n",
    "#Input:- [10,100,2321, 1,200,2]\n",
    "#Output:- 1 \n",
    "\n",
    "Input = [10,100,2321, 1,200,2]\n",
    "smallest_number = float('inf')  # assign a infinite number in a positive \n",
    "\n",
    "for i in Input:\n",
    "    if i<smallest_number:\n",
    "        smallest_number = i\n",
    "        \n",
    "print(smallest_number)"
   ]
  },
  {
   "cell_type": "code",
   "execution_count": 5,
   "metadata": {},
   "outputs": [
    {
     "name": "stdout",
     "output_type": "stream",
     "text": [
      "[21, 87, 45, 33, 1]\n"
     ]
    }
   ],
   "source": [
    "# Write a Python program which takes a list of numbers as input and prints a new list after removing even numbers from it.\n",
    "#Input:- [10,21,22,98,87,45,33,1,2,100]\n",
    "#Output:- [21,87,45,33,1]\n",
    "\n",
    "lst = [10,21,22,98,87,45,33,1,2,100]\n",
    "odd_num = []\n",
    "\n",
    "for i in lst:\n",
    "    if i % 2 != 0:\n",
    "        odd_num.append(i)\n",
    "print(odd_num) "
   ]
  },
  {
   "cell_type": "code",
   "execution_count": 6,
   "metadata": {
    "id": "JTVgy5VD94cE"
   },
   "outputs": [
    {
     "name": "stdout",
     "output_type": "stream",
     "text": [
      "2\n"
     ]
    }
   ],
   "source": [
    "# Write a Python program to count the number of strings having length more than 2 and are palindrome in a list using loop.\n",
    "#Input:- ['ab', 'abc', 'aba', 'xyz', '1991']\n",
    "#Output:- 2\n",
    "\n",
    "Input = ['ab', 'abc', 'aba', 'xyz', '1991']\n",
    "count = 0\n",
    "\n",
    "for i in Input:\n",
    "    if (len(i)>2 and i == i[::-1]):\n",
    "        count = count+1;\n",
    "\n",
    "print(count)"
   ]
  },
  {
   "cell_type": "code",
   "execution_count": 7,
   "metadata": {
    "id": "xs-ZGJbJ94gr"
   },
   "outputs": [
    {
     "name": "stdout",
     "output_type": "stream",
     "text": [
      "[1, 2, 9, 10, 65, 80, 100, 298, 483, 9213, 49876]\n"
     ]
    }
   ],
   "source": [
    "# Write a Python program to sort a list in ascending order using loop.\n",
    "#Input:- [100,80,2,298,65,483,49876,1,10,9,9213]\n",
    "#Output:- [1,2,9,10,65,80,100,298,483,9213,49876]\n",
    "\n",
    "lst = [100,10,1,298,65,483,49876,2,80,9,9213]\n",
    "    \n",
    "n = len(lst)\n",
    "for i in range(n):\n",
    "    for j in range(n-i-1):\n",
    "        if lst[j] > lst[j+1]:\n",
    "            lst[j], lst[j+1] = lst[j+1], lst[j]\n",
    "print(lst)"
   ]
  },
  {
   "cell_type": "code",
   "execution_count": 8,
   "metadata": {},
   "outputs": [
    {
     "name": "stdout",
     "output_type": "stream",
     "text": [
      "[(9, 1), (2, 3), (5, 4), (5, 5), (7, 6), (5, 9)]\n"
     ]
    }
   ],
   "source": [
    "# Write a Python program to get a sorted list in increasing order of last element in each tuple in a given list using loop.\n",
    "#Input:- [(5,4),(9,1),(2,3),(5,9),(7,6),(5,5)]\n",
    "#output:- [(9,1),(2,3),(5,4),(5,5),(7,6),(5,9)]\n",
    "\n",
    "lst = [(5,4),(9,1),(2,3),(5,9),(7,6),(5,5)]\n",
    "\n",
    "n = len(lst)\n",
    "for i in range(n):\n",
    "    for j in range(n-1):\n",
    "        if lst[j][-1] > lst[j+1][-1]:\n",
    "            lst[j],lst[j+1] = lst[j+1],lst[j]        \n",
    "print(lst)"
   ]
  },
  {
   "cell_type": "code",
   "execution_count": 9,
   "metadata": {
    "id": "YJrCLYp694n_"
   },
   "outputs": [
    {
     "name": "stdout",
     "output_type": "stream",
     "text": [
      "[10, 1, 11, 29, 876, 768, 92]\n"
     ]
    }
   ],
   "source": [
    "# Write a Python program to remove duplicate element from a list using loop.\n",
    "#Input:- [10,1,11,1,29,876,768,10,11,1,92,29,876]\n",
    "#Output:- [10,1,11,29,876,768,92]\n",
    "\n",
    "lst= [10,1,11,1,29,876,768,10,11,1,92,29,876]\n",
    "unique= []\n",
    "\n",
    "\n",
    "for i in lst:\n",
    "    if i not in unique:\n",
    "        unique.append(i)\n",
    "print(unique)"
   ]
  },
  {
   "cell_type": "code",
   "execution_count": 10,
   "metadata": {
    "id": "koYe4YCu94rh"
   },
   "outputs": [
    {
     "name": "stdout",
     "output_type": "stream",
     "text": [
      "List is not empty\n"
     ]
    }
   ],
   "source": [
    "#Write a Python program to check a list is empty or not?\n",
    "# Input = []\n",
    "#Output:- List is empty\n",
    "Input = [10,20,30]\n",
    "#Output:- List is not empty\n",
    "\n",
    "if not Input:\n",
    "    print('List is empty')\n",
    "else:\n",
    "    print('List is not empty')"
   ]
  },
  {
   "cell_type": "code",
   "execution_count": 11,
   "metadata": {
    "id": "mES1WANa94u5"
   },
   "outputs": [
    {
     "name": "stdout",
     "output_type": "stream",
     "text": [
      "[10, 10.2, (10+20j), 'Python', [10, 20], (10, 20)]\n"
     ]
    }
   ],
   "source": [
    "# Write a Python program to copy a list using loop.\n",
    "# inp_lst = [10,10.20,10+20j, 'Python', [10,20], (10,20)]\n",
    "# out_lst = [10,10.20,10+20j, 'Python', [10,20], (10,20)]\n",
    "\n",
    "inp_lst = [10,10.20,10+20j, 'Python', [10,20], (10,20)]\n",
    "out_lst = []\n",
    "\n",
    "for i in inp_lst:\n",
    "    out_lst.append(i)\n",
    "    \n",
    "print(out_lst)"
   ]
  },
  {
   "cell_type": "code",
   "execution_count": 12,
   "metadata": {
    "id": "CpBh31WO94yi"
   },
   "outputs": [
    {
     "name": "stdout",
     "output_type": "stream",
     "text": [
      "['much', 'wood', 'would', 'woodchuck', 'chuck', 'could']\n"
     ]
    }
   ],
   "source": [
    "# Write a Python program to find the list of words that are longer than or equal to 4 from a given string.\n",
    "#Input:- 'How much wood would a woodchuck chuck if a woodchuck could chuck wood'\n",
    "#Output:- ['much', 'wood', 'would', 'woodchuck', 'chuck', 'could']\n",
    "#Note:- Duplicate should be avoided.\n",
    "\n",
    "_str_= 'How much wood would a woodchuck chuck if a woodchuck could chuck wood'\n",
    "Output = []\n",
    "\n",
    "for i in _str_.split(\" \"):\n",
    "    if len(i) >= 4:\n",
    "        if i not in Output:\n",
    "            Output.append(i)\n",
    "            \n",
    "print(Output)"
   ]
  },
  {
   "cell_type": "code",
   "execution_count": 13,
   "metadata": {
    "id": "YVfj0fgZ9416"
   },
   "outputs": [
    {
     "name": "stdout",
     "output_type": "stream",
     "text": [
      "True\n"
     ]
    }
   ],
   "source": [
    "# Write a Python program which takes two list as input and returns True if they have at least 3 common elements.\n",
    "inp_lst1 = [10,20,'Python', 10.20, 10+20j, [10,20,30], (10,20,30)]\n",
    "inp_lst2 = [(10,20,30),1,20+3j,100.2, 10+20j, [10,20,30],'Python']\n",
    "#Output:- True\n",
    "\n",
    "\n",
    "common_count = 0\n",
    "\n",
    "for element in inp_lst1:\n",
    "    if element in inp_lst2:\n",
    "        common_count += 1\n",
    "        if common_count >= 3:\n",
    "            break\n",
    "\n",
    "output = common_count >= 3\n",
    "\n",
    "print(output)\n"
   ]
  },
  {
   "cell_type": "code",
   "execution_count": 14,
   "metadata": {
    "id": "7vwc3pjR945O"
   },
   "outputs": [
    {
     "name": "stdout",
     "output_type": "stream",
     "text": [
      "[[0, 0, 0, 0], [0, 1, 2, 3], [0, 2, 4, 6], [0, 3, 6, 9]]\n",
      "[[0, 0, 0, 0], [0, 1, 2, 3], [0, 2, 4, 6], [0, 3, 6, 9]]\n"
     ]
    }
   ],
   "source": [
    "# Write a Python program to create a 4X4 2D matrix with below elements using loop and list comprehension both.\n",
    "#Output:- [[0,0,0,0],[0,1,2,3],[0,2,4,6],[0,3,6,9]]\n",
    "\n",
    "Output = []\n",
    "\n",
    "for i in range(4):\n",
    "    row=[]\n",
    "    for j in range(4):\n",
    "        row.append(i*j)\n",
    "    Output.append(row)\n",
    "\n",
    "print(Output)\n",
    "\n",
    "matrix = [[i * j for j in range(4)] for i in range(4)]\n",
    "\n",
    "print(matrix)"
   ]
  },
  {
   "cell_type": "code",
   "execution_count": 15,
   "metadata": {
    "id": "Pxafor84948b"
   },
   "outputs": [
    {
     "name": "stdout",
     "output_type": "stream",
     "text": [
      "[[0, 0, 0, 0, 0, 0], [0, 0, 0, 0, 0, 0], [0, 0, 0, 0, 0, 0], [0, 0, 0, 0, 0, 0]]\n",
      "[[0, 0, 0, 0, 0, 0], [1, 1, 1, 1, 1, 1], [2, 2, 2, 2, 2, 2], [3, 3, 3, 3, 3, 3]]\n",
      "[[0, 0, 0, 0, 0, 0], [2, 2, 2, 2, 2, 2], [4, 4, 4, 4, 4, 4], [6, 6, 6, 6, 6, 6]]\n"
     ]
    }
   ],
   "source": [
    "# Write a Python program to create a 3X4X6 3D matrix wiith below elements using loop\n",
    "#Output:- \n",
    "# [\n",
    "#     [[0,0,0,0,0,0],[0,0,0,0,0,0],[0,0,0,0,0,0],[0,0,0,0,0,0]],\n",
    "#     [[0,0,0,0,0,0],[1,1,1,1,1,1],[2,2,2,2,2,2],[3,3,3,3,3,3]],\n",
    "#     [[0,0,0,0,0,0],[2,2,2,2,2,2],[4,4,4,4,4,4],[6,6,6,6,6,6]]\n",
    "# ]\n",
    "\n",
    "matrix_3d = []\n",
    "\n",
    "for i in range(3):\n",
    "    matrix_2d = []\n",
    "    for j in range(4):\n",
    "        row = []\n",
    "        for k in range(6):\n",
    "            row.append(i * j)\n",
    "        matrix_2d.append(row)\n",
    "    matrix_3d.append(matrix_2d)\n",
    "\n",
    "for layer in matrix_3d:\n",
    "    print(layer)"
   ]
  },
  {
   "cell_type": "code",
   "execution_count": 16,
   "metadata": {
    "id": "lYNv8gk794_p"
   },
   "outputs": [
    {
     "data": {
      "text/plain": [
       "[21, 87, 45, 33, 1]"
      ]
     },
     "execution_count": 16,
     "metadata": {},
     "output_type": "execute_result"
    }
   ],
   "source": [
    "# Write a Python program which takes a list of numbers as input and prints a new list after removing even numbers from it.\n",
    "#Input:- [10,21,22,98,87,45,33,1,2,100]\n",
    "#Output:- [21,87,45,33,1]\n",
    "\n",
    "Input= [10,21,22,98,87,45,33,1,2,100]\n",
    "Output= []\n",
    "\n",
    "for i in Input:\n",
    "    if i%2 != 0 :\n",
    "        Output.append(i)\n",
    "Output"
   ]
  },
  {
   "cell_type": "code",
   "execution_count": null,
   "metadata": {
    "id": "3BaCb-rB95B7"
   },
   "outputs": [],
   "source": [
    "\n",
    "\n",
    "\n"
   ]
  }
 ],
 "metadata": {
  "colab": {
   "name": "List_Assignment.ipynb",
   "provenance": []
  },
  "kernelspec": {
   "display_name": "Python 3 (ipykernel)",
   "language": "python",
   "name": "python3"
  },
  "language_info": {
   "codemirror_mode": {
    "name": "ipython",
    "version": 3
   },
   "file_extension": ".py",
   "mimetype": "text/x-python",
   "name": "python",
   "nbconvert_exporter": "python",
   "pygments_lexer": "ipython3",
   "version": "3.12.7"
  }
 },
 "nbformat": 4,
 "nbformat_minor": 4
}

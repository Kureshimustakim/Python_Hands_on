{
 "cells": [
  {
   "cell_type": "markdown",
   "id": "2630a78a",
   "metadata": {},
   "source": [
    "### Q. \"\"Declare a float value and store it in a variable , Check the type and print the id of the same.\"\""
   ]
  },
  {
   "cell_type": "code",
   "execution_count": 3,
   "id": "772aa864",
   "metadata": {},
   "outputs": [
    {
     "name": "stdout",
     "output_type": "stream",
     "text": [
      "<class 'float'>\n",
      "2226617483056\n",
      "2226617481904\n",
      "False\n"
     ]
    }
   ],
   "source": [
    "a = 10.05\n",
    "b = 10.05\n",
    "\n",
    "print(type(a))\n",
    "print(id(a))\n",
    "print(id(b))\n",
    "print(a is b)"
   ]
  },
  {
   "cell_type": "markdown",
   "id": "a45b4e84",
   "metadata": {},
   "source": [
    "## Q. Arithmetic Operations on float ,Take two different float values. Store them in two different variables.\n",
    "\n",
    "- Do below operations on them:-\n",
    "- Find sum of both numbers\n",
    "- Find difference between them\n",
    "- Find the product of both numbers.\n",
    "- Find value after dividing first num with second number\n",
    "- Find the remainder after dividing first number with second number\n",
    "- Find the quotient after dividing first number with second number\n",
    "- Find the result of the first num to the power of the second number."
   ]
  },
  {
   "cell_type": "code",
   "execution_count": 9,
   "id": "d695d2b5",
   "metadata": {},
   "outputs": [
    {
     "name": "stdout",
     "output_type": "stream",
     "text": [
      "15.05\n",
      "5.050000000000001\n",
      "50.25\n",
      "2.0100000000000002\n",
      "0.05000000000000071\n",
      "2.0\n",
      "102525.12531281254\n"
     ]
    }
   ],
   "source": [
    "a=10.05\n",
    "b=5.0\n",
    "\n",
    "print(a+b)\n",
    "print(a-b)\n",
    "print(a*b)\n",
    "print(a/b)\n",
    "print(a%b)\n",
    "print(a//b)\n",
    "print(a**b)\n"
   ]
  },
  {
   "cell_type": "markdown",
   "id": "57e91f5b",
   "metadata": {},
   "source": [
    "## Q. Comparison Operators on float , Take two different float values. Store them in two different variables.\n",
    "\n",
    "- Do below operations on them:-\n",
    "-  Compare these two numbers with below operator:-\n",
    "-  Greater than, '>'\n",
    "-  Smaller than, '<'\n",
    "-  Greater than or equal to, '>='\n",
    "-  Less than or equal to, '<='\n",
    "- Observe their output(return type should be boolean)"
   ]
  },
  {
   "cell_type": "code",
   "execution_count": 10,
   "id": "cde81884",
   "metadata": {},
   "outputs": [
    {
     "name": "stdout",
     "output_type": "stream",
     "text": [
      "True\n",
      "False\n",
      "True\n",
      "False\n"
     ]
    }
   ],
   "source": [
    "a=40.05\n",
    "b=30.05\n",
    "\n",
    "print(a>b)\n",
    "print(a<b)\n",
    "print(a>=b)\n",
    "print(a<=b)\n"
   ]
  },
  {
   "cell_type": "markdown",
   "id": "224a41a3",
   "metadata": {},
   "source": [
    "## Q. Equality Operator , Take two different float values. Store them in two different variables.\n",
    "\n",
    "- Equate them using equality operators (==, !=)\n",
    "- Observe the output(return type should be boolean)\n"
   ]
  },
  {
   "cell_type": "code",
   "execution_count": 11,
   "id": "fd083ca7",
   "metadata": {},
   "outputs": [
    {
     "name": "stdout",
     "output_type": "stream",
     "text": [
      "False\n",
      "True\n"
     ]
    }
   ],
   "source": [
    "a=15.5\n",
    "b=23.5\n",
    "\n",
    "print(a==b)\n",
    "print(a!=b)"
   ]
  },
  {
   "cell_type": "markdown",
   "id": "befff4dd",
   "metadata": {},
   "source": [
    "# Q. Logical operators\n",
    "- Observe the output of below code\n",
    "- Cross check the output manually"
   ]
  },
  {
   "cell_type": "code",
   "execution_count": 12,
   "id": "7fc448e4",
   "metadata": {},
   "outputs": [
    {
     "name": "stdout",
     "output_type": "stream",
     "text": [
      "20.3\n",
      "0.0\n",
      "0.0\n",
      "0.0\n",
      "10.2\n",
      "20.3\n",
      "20.3\n",
      "0.0\n",
      "False\n",
      "True\n"
     ]
    }
   ],
   "source": [
    "print(10.20 and 20.30) \n",
    "# both are true and second value taken --> Output is 20.3\n",
    "\n",
    "\n",
    "print(0.0 and 20.30) \n",
    "# First is false so first value taken --> Output is 0.0\n",
    "\n",
    "\n",
    "print(20.30 and 0.0) \n",
    "# Goes to till second and second value is false so second is taken --> Output is 0.0\n",
    "\n",
    "\n",
    "print(0.0 and 0.0)\n",
    "# First is false so first value is taken --> Output is 0.0\n",
    "\n",
    "\n",
    "print(10.20 or 20.30) \n",
    "# First is True so first value is taken --> Output is 10.2\n",
    "\n",
    "\n",
    "print(0.0 or 20.30) \n",
    "# Goes to till second and second is true second value is taken --> Output is 20.3\n",
    "\n",
    "\n",
    "print(20.30 or 0.0) \n",
    "# First is True so first value is taken --> Output is 20.3\n",
    "\n",
    "\n",
    "print(0.0 or 0.0) \n",
    "# Goes to till second and second is also false and second value is taken>Output is 0.0\n",
    "\n",
    "\n",
    "print(not 10.20) \n",
    "#-Not of true is false->Output is False\n",
    "\n",
    "\n",
    "print(not 0.0) \n",
    "#Not of false is True>Output is True\n"
   ]
  },
  {
   "cell_type": "markdown",
   "id": "e1301d89",
   "metadata": {},
   "source": [
    "## Q. What is the output of expression inside print statement. Cross check  before running the program.\n",
    "\n",
    "- a = 10.20\n",
    "- b - 10.20\n",
    "- print(a is b) #True or False? True 10.20<256\n",
    "- print(a is not b) #True or False? False"
   ]
  },
  {
   "cell_type": "code",
   "execution_count": 21,
   "id": "7cd37a71",
   "metadata": {},
   "outputs": [
    {
     "name": "stdout",
     "output_type": "stream",
     "text": [
      "False\n",
      "True\n",
      "------------------\n",
      "True\n",
      "True\n"
     ]
    }
   ],
   "source": [
    "a = 10.20\n",
    "b = 10.20\n",
    "\n",
    "print(a is b) #--> False --> Because memory re usablity Function is not applicable For FLoat Data Type \n",
    "print(a is not b)# --> True --> Because memory re usablity Function is not applicable For FLoat Data Type\n",
    "\n",
    "# Q.Why the Id of float values are different when the same value is assigned to two different variables\n",
    "# \"\"ex: a = 10.5 b=10.5. but id will be same if I assign the variable having float i.e. a=c then both a and c's Id are same  --> \n",
    "# Ans.. --> Yes\"\"  Because Of == is Eqality Operater It is Only check Value and identity Operater check Memory id\n",
    "\n",
    "a = 10.5 \n",
    "b = 10.5\n",
    "a = c\n",
    "\n",
    "print(a == b)\n",
    "print(a is c)"
   ]
  },
  {
   "cell_type": "markdown",
   "id": "654f247f",
   "metadata": {},
   "source": [
    "# Q. Bitwise operation is not applicable between instances of float.\n",
    "- Why the Id of float values are different when the same value is\n",
    "- assigned to two different variables\n",
    "- ex: a = 10.5 b=10.5. but id will be same if I assign the variable\n",
    "- having float i.e. a=c then both a and c's Id are same\n",
    "- Object reusability concept is not applicable on float values.\n"
   ]
  },
  {
   "cell_type": "code",
   "execution_count": null,
   "id": "2c6e9bed-8b76-4de4-b182-2b42de625753",
   "metadata": {},
   "outputs": [],
   "source": []
  },
  {
   "cell_type": "markdown",
   "id": "71efd160",
   "metadata": {},
   "source": [
    "## Q. Membership operation ''in'' , ''not in''  are two membership operators and it returns boolean value\n",
    "\n"
   ]
  },
  {
   "cell_type": "code",
   "execution_count": null,
   "id": "9968d29f",
   "metadata": {},
   "outputs": [],
   "source": [
    "print('2.7' in 'Python2.7.8') #True\n",
    "\n",
    "\n",
    "print(10.20 in [10,10.20,10+20j,'Python']) #True\n",
    "\n",
    "\n",
    "print(10.20 in (10,10.20,10+20j,'Python')) # True\n",
    "\n",
    "\n",
    "print(20.30 in {1,20.30,30+40j}) # True\n",
    "\n",
    "\n",
    "print(2.3 in {1:100, 2.3:200, 30+40j:300}) # True\n",
    "\n",
    "\n",
    "print(10 in range(20)) # True"
   ]
  },
  {
   "cell_type": "code",
   "execution_count": null,
   "id": "79f2eb44",
   "metadata": {},
   "outputs": [],
   "source": []
  },
  {
   "cell_type": "code",
   "execution_count": null,
   "id": "7a15aa53",
   "metadata": {},
   "outputs": [],
   "source": []
  },
  {
   "cell_type": "code",
   "execution_count": null,
   "id": "4801ee2b",
   "metadata": {},
   "outputs": [],
   "source": []
  },
  {
   "cell_type": "code",
   "execution_count": null,
   "id": "fb207bf6",
   "metadata": {},
   "outputs": [],
   "source": []
  }
 ],
 "metadata": {
  "kernelspec": {
   "display_name": "Python 3 (ipykernel)",
   "language": "python",
   "name": "python3"
  },
  "language_info": {
   "codemirror_mode": {
    "name": "ipython",
    "version": 3
   },
   "file_extension": ".py",
   "mimetype": "text/x-python",
   "name": "python",
   "nbconvert_exporter": "python",
   "pygments_lexer": "ipython3",
   "version": "3.12.7"
  }
 },
 "nbformat": 4,
 "nbformat_minor": 5
}

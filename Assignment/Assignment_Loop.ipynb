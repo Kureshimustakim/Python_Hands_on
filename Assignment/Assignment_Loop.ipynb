{
 "cells": [
  {
   "cell_type": "code",
   "execution_count": null,
   "id": "46a1ee8b",
   "metadata": {},
   "outputs": [],
   "source": [
    "\"\"\"Q. W. A P. which takes one number from 0 to 9 from the user and prints \n",
    "it in the word. And if the word is not from 0 to 9 then \n",
    "it should print that number is outside of the range and program should \n",
    "exit. \n",
    "For exapmple:- \n",
    "input = 1 \n",
    "output = one\"\"\"\n",
    "\n",
    "user_input = input('Enter a number between 0 and 9: ')\n",
    "\n",
    "number_words = {'0': 'Zero', '1': 'One', '2': 'Two', '3': 'Three', '4': 'Four', '5': 'Five', '6': 'Six', '7': 'Seven', '8': 'Eight', '9': 'Nine'}\n",
    "\n",
    "if user_input in number_words:\n",
    "    result=number_words[user_input]\n",
    "    print(result)\n",
    "else:\n",
    "    print(\" Number is Outside of the range\")"
   ]
  },
  {
   "cell_type": "code",
   "execution_count": null,
   "id": "daa3277b",
   "metadata": {},
   "outputs": [],
   "source": [
    "\"\"\"\n",
    "Q. W. A P. to implement calculator but the operation to be done and two \n",
    "numbers will be taken as input from user:- \n",
    "Operation console should show below:- \n",
    "   Please select any one operation from below:- \n",
    "       * To add enter 1 \n",
    "       * to subtract enter 2 \n",
    "       * To multiply enter 3 \n",
    "       * To divide enter 4 \n",
    "       * To divide and find quotient enter 5 \n",
    "       * To divide and find remainder enter 6 \n",
    "       * To divide and find num1 to the power of num2 enter 7 \n",
    "       * To Come out of the program enter 8\n",
    "\"\"\"\n",
    "\n",
    "a = float(input(\"Enter the First  Number\"))\n",
    "b = float(input(\"Enter the Second  Number\"))\n",
    "op = input(\"\"\"\n",
    "           To add enter 1\n",
    "           to subtract enter 2 \n",
    "           To multiply enter 3\n",
    "           To divide enter 4 \n",
    "           To divide and find quotient enter 5 \n",
    "           To divide and find remainder enter 6\n",
    "           To divide and find num1 to the power of num2 enter 7\n",
    "           To Come out of the program enter 8\"\"\")\n",
    "\n",
    "for i in op:\n",
    "    if (op == '1'):\n",
    "        print(a+b)\n",
    "    elif  (op == '2'):\n",
    "        print(a-b)\n",
    "    elif (op == '3'):\n",
    "        print(a*b)   \n",
    "    elif (op == '4'):\n",
    "        print(a/b)\n",
    "    elif  (op == '5'):\n",
    "        print(a//b)\n",
    "    elif  (op == '6'):\n",
    "        print(a%b)\n",
    "    elif  (op == '7'):\n",
    "        print(a**b)\n",
    "    elif (op == '8'):\n",
    "        print('out of the program')\n",
    "    "
   ]
  },
  {
   "cell_type": "code",
   "execution_count": 7,
   "id": "3ada711a",
   "metadata": {},
   "outputs": [
    {
     "name": "stdout",
     "output_type": "stream",
     "text": [
      "Enter the Year 1200\n",
      "This is a leap Year\n"
     ]
    }
   ],
   "source": [
    "\"\"\"\n",
    "Q. W A P to check whether a year entered by user is an leap year or not? \n",
    "Check with below input:- \n",
    "   leap year:- 2012, 1968, 2004, 1200, 1600,2400 \n",
    "   Non-lear year:- 1971, 2006, 1700,1800,1900 \n",
    "\"\"\"\n",
    "\n",
    "leap_year = int(input(\"Enter the Year \"))\n",
    "                \n",
    "if (leap_year%4 == 0 and leap_year%100 != 0) or (leap_year%400==0):\n",
    "    print(\"This is a leap Year\")\n",
    "else:\n",
    "    print(\"This is a Not leap Year\")"
   ]
  },
  {
   "cell_type": "code",
   "execution_count": 3,
   "id": "6633e7d8",
   "metadata": {},
   "outputs": [
    {
     "name": "stdin",
     "output_type": "stream",
     "text": [
      "Enter the Number   5\n"
     ]
    },
    {
     "name": "stdout",
     "output_type": "stream",
     "text": [
      "5 is odd number\n"
     ]
    }
   ],
   "source": [
    "\"\"\"\n",
    "Q. W A P which takes one number from the user and checks whether it is \n",
    "an even or odd number?, If it even then prints number is \n",
    "even number else prints that number is odd number.\n",
    "\"\"\"\n",
    "num = int(input(\"Enter the Number  \"))\n",
    "\n",
    "if num%2 == 0 :\n",
    "    print(f\"{num} is even number\")\n",
    "else:\n",
    "    print(f\"{num} is odd number\")"
   ]
  },
  {
   "cell_type": "code",
   "execution_count": 14,
   "id": "54448f0f",
   "metadata": {},
   "outputs": [
    {
     "name": "stdout",
     "output_type": "stream",
     "text": [
      "Enter the number  12\n",
      "Enter the number  34\n",
      "12 is Smaller than 34\n"
     ]
    }
   ],
   "source": [
    "\"\"\"\n",
    "Q. W A P which takes two numbers from the user and prints below output:- \n",
    "   1. num1 is greater than num2 if num1 is greater than num2 \n",
    "   2. num1 is smaller than num2 if num1 is smaller than num2 \n",
    "   3. num1 is equal to num2 if num1 and num2 are equal \n",
    " \n",
    "Note:- 1. Do this problem using if - else \n",
    "     2. Do this using ternary operator \n",
    "\"\"\"\n",
    "\n",
    "num1=int(input(\"Enter the number  \"))\n",
    "num2=int(input(\"Enter the number  \"))\n",
    "\n",
    "if num1>num2:\n",
    "    print(f\"{num1} is Grater than {num2}\")\n",
    "elif num1<num2:\n",
    "    print(f\"{num1} is Smaller than {num2}\")\n",
    "else:\n",
    "    print(f\"{num1} and {num2} are Equal\")"
   ]
  },
  {
   "cell_type": "code",
   "execution_count": null,
   "id": "adf8df8d",
   "metadata": {},
   "outputs": [],
   "source": [
    "\"\"\"\n",
    "Q. W A P which takes three numbers from the user and prints below \n",
    "output:- \n",
    "   1. num1 is greater than num2 and num3 if num1 is greater than num2 \n",
    "and num3 \n",
    "   2. num2 is greater than num1 and num3 if num2 is greater than num1 \n",
    "and num3 \n",
    "   3. num3 is greater than num1 and num2 if num3 is greater than num1 \n",
    "and num2 \n",
    " \n",
    "Note:- 1. Do this problem using if - elif - else \n",
    "     2. Do this using ternary operator \n",
    " \n",
    "a = a if a>b else b\n",
    "\"\"\"\n",
    "\n",
    "\n",
    "num1 = float(input(\"Enter the first number: \"))\n",
    "num2 = float(input(\"Enter the second number: \"))\n",
    "num3 = float(input(\"Enter the third number: \"))\n",
    "\n",
    "\n",
    "if num1 > num2 and num1 > num3:\n",
    "    print(\"1. num1 is greater than num2 and num3.\")\n",
    "elif num2 > num1 and num2 > num3:\n",
    "    print(\"2. num2 is greater than num1 and num3.\")\n",
    "elif num3 > num1 and num3 > num2:\n",
    "    print(\"3. num3 is greater than num1 and num2.\")\n",
    "else:\n",
    "    print(\"Numbers are not distinct.\")"
   ]
  },
  {
   "cell_type": "code",
   "execution_count": 17,
   "id": "70b87d0f",
   "metadata": {},
   "outputs": [
    {
     "name": "stdout",
     "output_type": "stream",
     "text": [
      "55\n"
     ]
    }
   ],
   "source": [
    "\"\"\"\n",
    "Q. Write a Python program to find the length of the my_str using loop:- \n",
    " \n",
    "Input:- 'Write a Python program to find the length of the my_str' \n",
    "Output:- 55 \n",
    "\"\"\"\n",
    "my_str = 'Write a Python program to find the length of the my_str' \n",
    "length = 0\n",
    "\n",
    "for i in my_str:\n",
    "    length+=1\n",
    "print(length)"
   ]
  },
  {
   "cell_type": "code",
   "execution_count": 19,
   "id": "787ac413",
   "metadata": {},
   "outputs": [
    {
     "name": "stdout",
     "output_type": "stream",
     "text": [
      "9\n"
     ]
    }
   ],
   "source": [
    "\"\"\"\n",
    "Q. Write a Python program to find the total number of times letter 'p' \n",
    "is appeared in the below string using loop:- \n",
    "  \n",
    "Input:- 'peter piper picked a peck of pickled peppers.\\n' \n",
    "Output:- 9\n",
    "\"\"\"\n",
    "\n",
    "Input = 'peter piper picked a peck of pickled peppers.'\n",
    "total = 0 \n",
    "\n",
    "for i in Input:\n",
    "    if i == \"p\":\n",
    "        total =total+1\n",
    "        \n",
    "print(total)"
   ]
  },
  {
   "cell_type": "code",
   "execution_count": 26,
   "id": "abbbfe64",
   "metadata": {},
   "outputs": [
    {
     "name": "stdout",
     "output_type": "stream",
     "text": [
      "0\n",
      "6\n",
      "8\n",
      "12\n",
      "21\n",
      "29\n",
      "37\n",
      "39\n",
      "40\n"
     ]
    }
   ],
   "source": [
    "\"\"\"\n",
    "Q. Write a Python Program, to print all the indexes of all occurences of \n",
    "letter 'p' appeared in the string using loop:- \n",
    "  \n",
    "Input:- 'peter piper picked a peck of pickled peppers.' \n",
    "Output:- \n",
    "0 \n",
    "6 \n",
    "8 \n",
    "12 \n",
    "21 \n",
    "29 \n",
    "37 \n",
    "39 \n",
    "40\n",
    "\"\"\"\n",
    "\n",
    "Input = 'peter piper picked a peck of pickled peppers.' \n",
    "\n",
    "for i in range(len(Input)):\n",
    "    if Input[i]==\"p\":\n",
    "        print(i)"
   ]
  },
  {
   "cell_type": "code",
   "execution_count": 4,
   "id": "5361f339",
   "metadata": {},
   "outputs": [
    {
     "name": "stdout",
     "output_type": "stream",
     "text": [
      "['peter', 'piper', 'picked', 'a', 'peck', 'of', 'pickled', 'peppers.']\n"
     ]
    }
   ],
   "source": [
    "\"\"\"\n",
    "Q. Write a python program to find below output using loop:- \n",
    " \n",
    "Input:- 'peter piper picked a peck of pickled peppers.' \n",
    "Output:- ['peter', 'piper', 'picked', 'a', 'peck', 'of', 'pickled', \n",
    "'peppers']\n",
    "\"\"\"\n",
    "\n",
    "input_str = 'peter piper picked a peck of pickled peppers.'\n",
    "Output = []\n",
    "\n",
    "for i in input_str.split(\" \"):\n",
    "    Output.append(i)\n",
    "    \n",
    "print(Output)"
   ]
  },
  {
   "cell_type": "code",
   "execution_count": 53,
   "id": "d5291c3a",
   "metadata": {},
   "outputs": [
    {
     "data": {
      "text/plain": [
       "'peppers of a piper peter picked peck pickled'"
      ]
     },
     "execution_count": 53,
     "metadata": {},
     "output_type": "execute_result"
    }
   ],
   "source": [
    "\"\"\"\n",
    "Q. Write a python program to find below output using loop:- \n",
    " \n",
    "Input:- 'peter piper picked a peck of pickled peppers.' \n",
    "Output:- 'peppers pickled of peck a picked piper peter'\n",
    "\"\"\"\n",
    "\n",
    "input_str = 'peter piper picked a peck of pickled peppers'\n",
    "Output = []\n",
    "for i in input_str.split(\" \"):\n",
    "    Output.append(i)\n",
    "    Output.reverse()\n",
    "Output = \" \".join(Output)\n",
    "Output"
   ]
  },
  {
   "cell_type": "code",
   "execution_count": 58,
   "id": "92d9d290",
   "metadata": {},
   "outputs": [
    {
     "name": "stdout",
     "output_type": "stream",
     "text": [
      "Output: retep repip dekcip a kcep fo delkcip sreppep.\n"
     ]
    }
   ],
   "source": [
    "\"\"\"\n",
    "Q. Write a python program to find below output using loop:- \n",
    " \n",
    "Input:- 'peter piper picked a peck of pickled peppers.' \n",
    "Output:- '.sreppep delkcip fo kcep a dekcip repip retep' \n",
    "\"\"\"\n",
    "\n",
    "input_str = 'peter piper picked a peck of pickled peppers.'\n",
    "\n",
    "current_word = ''\n",
    "reversed_string = ''\n",
    "\n",
    "for char in input_str:\n",
    "    if char == ' ' or char == '.':\n",
    "        reversed_string += current_word[::-1] + char\n",
    "        current_word = ''\n",
    "    else:\n",
    "        current_word += char\n",
    "\n",
    "print(\"Output:\", reversed_string)\n"
   ]
  },
  {
   "cell_type": "code",
   "execution_count": 59,
   "id": "0b2f5e98",
   "metadata": {},
   "outputs": [
    {
     "name": "stdout",
     "output_type": "stream",
     "text": [
      "retep repip dekcip a kcep fo delkcip sreppep.\n"
     ]
    }
   ],
   "source": [
    "\"\"\"\n",
    "Q. Write a python program to find below output using loop:- \n",
    " \n",
    "Input:- 'peter piper picked a peck of pickled peppers.' \n",
    "Output:- 'retep repip dekcip a kcep fo delkcip sreppep' \n",
    "\"\"\"\n",
    "\n",
    "input_str = 'peter piper picked a peck of pickled peppers.'\n",
    "\n",
    "current_word = ''\n",
    "reversed_string = ''\n",
    "\n",
    "for char in input_str:\n",
    "    if char == ' ' or char == '.':\n",
    "        reversed_string += current_word[::-1] + char\n",
    "        current_word = ''\n",
    "    else:\n",
    "        current_word += char\n",
    "\n",
    "print(reversed_string)"
   ]
  },
  {
   "cell_type": "code",
   "execution_count": null,
   "id": "46e7a316",
   "metadata": {},
   "outputs": [],
   "source": [
    "\"\"\"\n",
    "Q. Write a python program to find below output using loop:- \n",
    " \n",
    "Input:- 'peter piper picked a peck of pickled peppers.' \n",
    "Output:- 'Peter Piper Picked A Peck Of Pickled Peppers' \n",
    "\"\"\"\n",
    "\n",
    "\n",
    "input_str = 'peter piper picked a peck of pickled peppers.'\n",
    "\n",
    "\n",
    "capitalized_string = ''\n",
    "start_of_word = True\n",
    "\n",
    "\n",
    "for char in input_str:\n",
    "    if char.isalpha():\n",
    "        if start_of_word:\n",
    "            capitalized_string += char.upper()\n",
    "            start_of_word = False\n",
    "        else:\n",
    "            capitalized_string += char.lower()\n",
    "    else:\n",
    "        capitalized_string += char\n",
    "        start_of_word = True\n",
    "\n",
    "print(\"Output:\", capitalized_string)\n"
   ]
  },
  {
   "cell_type": "code",
   "execution_count": null,
   "id": "0198c037",
   "metadata": {},
   "outputs": [],
   "source": [
    "\"\"\"\n",
    "Q. Write a python program to find below output using loop:- \n",
    " \n",
    "Input:- 'Peter Piper Picked A Peck Of Pickled Peppers.' \n",
    "Output:- 'Peter piper picked a peck of pickled peppers'\n",
    "\"\"\"\n",
    "input_str = 'Peter Piper Picked A Peck Of Pickled Peppers.'\n",
    "\n",
    "lowercased_string = ''\n",
    "\n",
    "start_of_sentence = True\n",
    "\n",
    "for char in input_str:\n",
    "    if char.isalpha():\n",
    "        if start_of_sentence:\n",
    "            lowercased_string += char.upper()\n",
    "            start_of_sentence = False\n",
    "        else:\n",
    "            lowercased_string += char.lower()\n",
    "    else:\n",
    "        lowercased_string += char\n",
    "        if char == '.':\n",
    "            start_of_sentence = True\n",
    "\n",
    "print(\"Output:\", lowercased_string)\n"
   ]
  },
  {
   "cell_type": "code",
   "execution_count": 60,
   "id": "fbcafa4b",
   "metadata": {},
   "outputs": [
    {
     "name": "stdout",
     "output_type": "stream",
     "text": [
      "Output: 29\n"
     ]
    }
   ],
   "source": [
    "\"\"\"\n",
    "Q. Write a python program to implement index method using loop. If \n",
    "sub_str is found in my_str then it will print the index \n",
    "of first occurrence of first character of matching string in my_str:- \n",
    " \n",
    "Input:- my_str = 'Peter Piper Picked A Peck Of Pickled Peppers.', \n",
    "sub_str = 'Pickl' \n",
    "Output:- 29 \n",
    "\"\"\"\n",
    "my_str = 'Peter Piper Picked A Peck Of Pickled Peppers.'\n",
    "sub_str = 'Pickl'\n",
    "\n",
    "index = -1\n",
    "\n",
    "\n",
    "for i in range(len(my_str) - len(sub_str) + 1):\n",
    "    if my_str[i:i + len(sub_str)] == sub_str:\n",
    "        index = i\n",
    "        break\n",
    "\n",
    "\n",
    "print(index)"
   ]
  },
  {
   "cell_type": "code",
   "execution_count": 3,
   "id": "c72b2a07",
   "metadata": {},
   "outputs": [
    {
     "name": "stdout",
     "output_type": "stream",
     "text": [
      "P e t e r  P i p e r  P i c k e d  A  P e c k  O f  P i c k l e d  P e p p e r s . "
     ]
    }
   ],
   "source": [
    "\"\"\"\n",
    "Q. Write a python program to implement replace method using loop. If \n",
    "sub_str is found in my_str then it will replace the first \n",
    "occurrence of sub_str with new_str else it will will print sub_str not \n",
    "found:- \n",
    " \n",
    "Input:- my_str = 'Peter Piper Picked A Peck Of Pickled Peppers.', \n",
    "sub_str = 'Peck', new_str = 'Pack' \n",
    "Output:- 'Peter Piper Picked A Pack Of Pickled Peppers.'\n",
    "\"\"\"\n",
    "my_str = 'Peter Piper Picked A Peck Of Pickled Peppers.'\n",
    "\n",
    "for i in my_str:\n",
    "    if i==\"Peck\"\n"
   ]
  },
  {
   "cell_type": "code",
   "execution_count": 69,
   "id": "5eea0252",
   "metadata": {},
   "outputs": [
    {
     "name": "stdout",
     "output_type": "stream",
     "text": [
      "Output: *********************Peck********************\n"
     ]
    }
   ],
   "source": [
    "\"\"\"\n",
    "Q. Write a python program to find below output (implements rjust and \n",
    "ljust) using loop:- \n",
    " \n",
    "Input:- 'Peter Piper Picked A Peck Of Pickled Peppers.', \n",
    "sub_str = 'Peck', \n",
    "Output= '*********************Peck********************'\n",
    "\"\"\"\n",
    "\n",
    "my_str = 'Peter Piper Picked A Peck Of Pickled Peppers.'\n",
    "sub_str = 'Peck'\n",
    "\n",
    "index = my_str.find(sub_str)\n",
    "\n",
    "if index != -1:\n",
    "    width = len(my_str)\n",
    "\n",
    "output_str = sub_str.rjust(index + len(sub_str) , \"*\").ljust(width,\"*\")\n",
    "\n",
    "print(\"Output:\", output_str)"
   ]
  },
  {
   "cell_type": "code",
   "execution_count": 28,
   "id": "d2ec7c64",
   "metadata": {},
   "outputs": [],
   "source": [
    "\"\"\"\n",
    "Q. Write a python program to find below output using loop:- \n",
    " \n",
    "Input:- 'This is Python class', sep = ' is', \n",
    "Output:- ['This', 'is', 'Python class']\n",
    "\"\"\"\n",
    "Input = 'This is Python class'"
   ]
  },
  {
   "cell_type": "code",
   "execution_count": null,
   "id": "dc8c7874-7f73-4380-9e19-e5ec3f21a45f",
   "metadata": {},
   "outputs": [],
   "source": []
  }
 ],
 "metadata": {
  "kernelspec": {
   "display_name": "Python 3 (ipykernel)",
   "language": "python",
   "name": "python3"
  },
  "language_info": {
   "codemirror_mode": {
    "name": "ipython",
    "version": 3
   },
   "file_extension": ".py",
   "mimetype": "text/x-python",
   "name": "python",
   "nbconvert_exporter": "python",
   "pygments_lexer": "ipython3",
   "version": "3.12.7"
  }
 },
 "nbformat": 4,
 "nbformat_minor": 5
}

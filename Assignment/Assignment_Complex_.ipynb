{
 "cells": [
  {
   "cell_type": "markdown",
   "id": "dcd74341",
   "metadata": {},
   "source": [
    "## Q. Declare a complex number and store it in a variable.\n",
    "- Check the type and print the id of the same."
   ]
  },
  {
   "cell_type": "code",
   "execution_count": 3,
   "id": "e84d625c",
   "metadata": {},
   "outputs": [
    {
     "name": "stdout",
     "output_type": "stream",
     "text": [
      "(20+3j) <class 'complex'>\n",
      "(20+3j) <class 'complex'>\n",
      "2194847028048\n",
      "2194847037616\n"
     ]
    }
   ],
   "source": [
    "a = 20+3j\n",
    "b = 20+3J\n",
    "\n",
    "print(a,type(a))\n",
    "print(b,type(b))\n",
    "print(id(a))\n",
    "print(id(b))"
   ]
  },
  {
   "cell_type": "markdown",
   "id": "71a8aa8d",
   "metadata": {},
   "source": [
    "## Q. Arithmetic Operations on complex number Take two different complex numbers. Store them in two different variables . Do below operations on them:-\n",
    "- Find sum of both numbers\n",
    "- Find difference between them\n",
    "- Find the product of both numbers.\n",
    "- Find value after dividing first num with second number\n",
    "- Find the result of the first num to the power of the second number."
   ]
  },
  {
   "cell_type": "code",
   "execution_count": 5,
   "id": "a6d7f922",
   "metadata": {},
   "outputs": [
    {
     "name": "stdout",
     "output_type": "stream",
     "text": [
      "(30+54j)\n",
      "(10-14j)\n",
      "(-480+880j)\n",
      "(0.7006369426751593-0.3821656050955414j)\n",
      "(-426.6765478270519+710.0900876849328j)\n"
     ]
    }
   ],
   "source": [
    "a = 20+20j \n",
    "b = 10+34j\n",
    "\n",
    "print(a+b)\n",
    "print(a-b)\n",
    "print(a*b)\n",
    "print(a/b)\n",
    "print(a**b)"
   ]
  },
  {
   "cell_type": "markdown",
   "id": "0f55e18a",
   "metadata": {},
   "source": [
    "## Q. Comparison Operation not applicable between instance of complex values.\n",
    "\n",
    "- Object reusability concept is not applicable on complex number"
   ]
  },
  {
   "cell_type": "code",
   "execution_count": 11,
   "id": "1a725d73",
   "metadata": {},
   "outputs": [
    {
     "name": "stdout",
     "output_type": "stream",
     "text": [
      "2194861376016\n",
      "2194861375536\n",
      "False\n"
     ]
    },
    {
     "ename": "TypeError",
     "evalue": "'<=' not supported between instances of 'complex' and 'complex'",
     "output_type": "error",
     "traceback": [
      "\u001b[1;31m---------------------------------------------------------------------------\u001b[0m",
      "\u001b[1;31mTypeError\u001b[0m                                 Traceback (most recent call last)",
      "Cell \u001b[1;32mIn[11], line 7\u001b[0m\n\u001b[0;32m      5\u001b[0m \u001b[38;5;28mprint\u001b[39m(\u001b[38;5;28mid\u001b[39m(b))\n\u001b[0;32m      6\u001b[0m \u001b[38;5;28mprint\u001b[39m(a \u001b[38;5;129;01mis\u001b[39;00m b)\n\u001b[1;32m----> 7\u001b[0m \u001b[38;5;28mprint\u001b[39m(a \u001b[38;5;241m<\u001b[39m\u001b[38;5;241m=\u001b[39m b)\n",
      "\u001b[1;31mTypeError\u001b[0m: '<=' not supported between instances of 'complex' and 'complex'"
     ]
    }
   ],
   "source": [
    "a = 10+10j\n",
    "b = 10+10j\n",
    "\n",
    "print(id(a))\n",
    "print(id(b))\n",
    "print(a is b)\n",
    "print(a <= b) # Example Of Comparison operation is Not applicable Between Complex Values"
   ]
  },
  {
   "cell_type": "markdown",
   "id": "a9acd3b4",
   "metadata": {},
   "source": [
    "## Q. Equality Operator Take two different complex numbers. Store them in two different variables.\n",
    "\n",
    "- Equate them using equality operators (==, !=)\n",
    "- Observe the output(return type should be boolean)\n"
   ]
  },
  {
   "cell_type": "code",
   "execution_count": 12,
   "id": "b33ae565",
   "metadata": {},
   "outputs": [
    {
     "name": "stdout",
     "output_type": "stream",
     "text": [
      "False\n",
      "True\n"
     ]
    }
   ],
   "source": [
    "a = 34+28j\n",
    "b = 12+23j\n",
    "\n",
    "print(a==b)\n",
    "print(a!=b)"
   ]
  },
  {
   "cell_type": "markdown",
   "id": "3a68affd",
   "metadata": {},
   "source": [
    "## Q. Logical operators Observe the output of below code , Cross check the output manually"
   ]
  },
  {
   "cell_type": "code",
   "execution_count": null,
   "id": "a714fc30",
   "metadata": {},
   "outputs": [],
   "source": [
    "print(10+20j and 20+30j) #20+30j\n",
    "# both are true and second value taken --> Output is 20+30j\n",
    "\n",
    "print(0+0j and 20+30j) #0+0j\n",
    "# first are False and first value taken --> Output is 0+0j\n",
    "\n",
    "print(20+30j and 0+0j) #0+0j\n",
    "# first are true and second value taken --> Output is 0+0j\n",
    "\n",
    "print(0+0j and 0+0j) #0+0j\n",
    "# both are false and first value taken --> Output is 0+0j\n",
    "\n",
    "print(10+20j or 20+30j) #10+20j\n",
    "# both are true or first value taken --> Output is 10+20j\n",
    "\n",
    "print(0+0j or 20+30j) #20+30j\n",
    "# first are false and second value taken --> Output is 20+30j\n",
    "\n",
    "print(20+30j or 0+0j) #20+30j\n",
    "# first are true and first value taken --> Output is 20+30j\n",
    "\n",
    "print(0+0j or 0+0j) #0+0j\n",
    "# both are false and second value taken --> Output is 0+0j\n",
    "\n",
    "print(not 10+20j) #False\n",
    "# not operater is get true to false --> Output is False\n",
    "\n",
    "print(not 0+0j) #True\n",
    "# not operater is get false to True --> Output is True"
   ]
  },
  {
   "cell_type": "markdown",
   "id": "0ae27e38",
   "metadata": {},
   "source": [
    "## Q. What is the output of the expression inside the print statement.\n",
    "- Cross check before running the program.\n",
    "\n"
   ]
  },
  {
   "cell_type": "code",
   "execution_count": 13,
   "id": "f5fbde01",
   "metadata": {},
   "outputs": [
    {
     "name": "stdout",
     "output_type": "stream",
     "text": [
      "False\n",
      "True\n"
     ]
    }
   ],
   "source": [
    "a = 10+20j\n",
    "b = 10+20j\n",
    "\n",
    "print(a is b) #False \n",
    "print(a is not b) #True "
   ]
  },
  {
   "cell_type": "markdown",
   "id": "327a588a",
   "metadata": {},
   "source": [
    "## Q. Membership operation ''in'' , ''not in''  are two membership operators and it returns boolean value\n"
   ]
  },
  {
   "cell_type": "code",
   "execution_count": null,
   "id": "0049027b",
   "metadata": {},
   "outputs": [],
   "source": [
    "print('2.7' in 'Python2.7.8') #True\n",
    "\n",
    "\n",
    "print(10+20j in [10,10.20,10+20j,'Python']) #True\n",
    "\n",
    "\n",
    "print(10+20j in (10,10.20,10+20j,'Python')) #True\n",
    "\n",
    "\n",
    "print(30+40j in {1,20.30,30+40j}) #True\n",
    "\n",
    "\n",
    "print(30+40j in {1:100, 2.3:200, 30+40j:300}) #True\n",
    "\n",
    "\n",
    "print(10 in range(20)) #True"
   ]
  },
  {
   "cell_type": "code",
   "execution_count": null,
   "id": "ebaf9ed9",
   "metadata": {},
   "outputs": [],
   "source": []
  }
 ],
 "metadata": {
  "kernelspec": {
   "display_name": "Python 3 (ipykernel)",
   "language": "python",
   "name": "python3"
  },
  "language_info": {
   "codemirror_mode": {
    "name": "ipython",
    "version": 3
   },
   "file_extension": ".py",
   "mimetype": "text/x-python",
   "name": "python",
   "nbconvert_exporter": "python",
   "pygments_lexer": "ipython3",
   "version": "3.11.5"
  }
 },
 "nbformat": 4,
 "nbformat_minor": 5
}

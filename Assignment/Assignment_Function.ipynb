{
 "cells": [
  {
   "cell_type": "code",
   "execution_count": null,
   "metadata": {
    "id": "1YVTYu-CuCOO"
   },
   "outputs": [],
   "source": [
    "# Define a function calls addNumber(x, y) that takes in two number and returns the sum of the two numbers.\n",
    "\n",
    "\n",
    "def addNumbers(x, y):\n",
    "    return x + y\n",
    "\n",
    "# Example usage\n",
    "result = addNumbers(5, 7)\n",
    "print(result)  # Output: 12\n"
   ]
  },
  {
   "cell_type": "code",
   "execution_count": null,
   "metadata": {
    "id": "1-gIq-Rju2i2"
   },
   "outputs": [],
   "source": [
    "# Define a function calls subtractNumber(x, y) that takes in two numbers and returns the difference of the two numbers.\n",
    "\n",
    "def subtractNumbers(x, y):\n",
    "    return x - y\n",
    "\n",
    "# Example usage\n",
    "result = subtractNumbers(10, 4)\n",
    "print(result)  # Output: 6\n"
   ]
  },
  {
   "cell_type": "code",
   "execution_count": null,
   "metadata": {
    "id": "kiAE0iLbviG9"
   },
   "outputs": [],
   "source": [
    "# Write a function getBiggerNumber(x, y) that takes in two numbers as arguments and returns the bigger number.\n",
    "\n",
    "\n",
    "def getBiggerNumber(x, y):\n",
    "    return max(x, y)\n",
    "\n",
    "# Example usage\n",
    "result = getBiggerNumber(15, 8)\n",
    "print(result)  # Output: 15\n"
   ]
  },
  {
   "cell_type": "code",
   "execution_count": null,
   "metadata": {
    "id": "10B5oVcZh16d"
   },
   "outputs": [],
   "source": [
    "# Python provides many built-in modules with many useful functions. \n",
    "# One such module is the math module. The math module provides many useful functions such as sqrt(x), pow(x, y), ceil(x), floor(x) etc. \n",
    "# You will need to do a \"import math\" before you are allowed to use the functions within the math module.\n",
    "\n",
    "# Calculate the square root of 16 and stores it in the variable a\n",
    "\n",
    "# Calculate 3 to the power of 5 and stores it in the variable b\n",
    "\n",
    "# Calculate area of circle with radius = 3.0 by making use of the math.pi constant and store it in the variable c\n",
    "\n",
    "import math\n",
    "\n",
    "# Calculate the square root of 16\n",
    "a = math.sqrt(16)\n",
    "\n",
    "# Calculate 3 to the power of 5\n",
    "b = math.pow(3, 5)\n",
    "\n",
    "# Calculate the area of a circle with radius = 3.0\n",
    "radius = 3.0\n",
    "c = math.pi * math.pow(radius, 2)\n",
    "\n",
    "# Print the results\n",
    "print(\"Square root of 16:\", a)\n",
    "print(\"3 to the power of 5:\", b)\n",
    "print(\"Area of circle with radius 3.0:\", c)\n"
   ]
  },
  {
   "cell_type": "code",
   "execution_count": null,
   "metadata": {
    "id": "Yado0B99h2E_"
   },
   "outputs": [],
   "source": [
    "# Write a function to convert temperature from Celsius to Fahrenheit scale.\n",
    "# oC to oF Conversion: Multipy by 9, then divide by 5, then add 32.\n",
    "\n",
    "# Note: Return a string of 2 decimal places.\n",
    "# In - Cel2Fah(28.0)\n",
    "# Out - '82.40'\n",
    "# In - Cel2Fah(0.00)\n",
    "# Out - '32.00'\n",
    "\n",
    "def Cel2Fah(celsius):\n",
    "    fahrenheit = (celsius * 9/5) + 32\n",
    "    return '{:.2f}'.format(fahrenheit)\n",
    "\n",
    "# Example usage\n",
    "result1 = Cel2Fah(28.0)\n",
    "print(result1)  # Output: '82.40'\n",
    "\n",
    "result2 = Cel2Fah(0.00)\n",
    "print(result2)  # Output: '32.00'\n"
   ]
  },
  {
   "cell_type": "code",
   "execution_count": null,
   "metadata": {
    "id": "n7lsFol9h2ID"
   },
   "outputs": [],
   "source": [
    "# Write a function to compute the BMI of a person.\n",
    "#     BMI = weight(kg)  /  ( height(m)*height(m) )\n",
    "\n",
    "# Note: Return a string of 1 decimal place.\n",
    "# In - BMI(63, 1.7)\n",
    "# Out - '21.8'\n",
    "# In - BMI(110, 2)\n",
    "# Out - '27.5'\n",
    "\n",
    "def BMI(weight, height):\n",
    "    bmi = weight / (height * height)\n",
    "    return '{:.1f}'.format(bmi)\n",
    "\n",
    "# Example usage\n",
    "result1 = BMI(63, 1.7)\n",
    "print(result1)  # Output: '21.8'\n",
    "\n",
    "result2 = BMI(110, 2)\n",
    "print(result2)  # Output: '27.5'\n"
   ]
  },
  {
   "cell_type": "code",
   "execution_count": null,
   "metadata": {
    "id": "f2tV1AU8h2LN"
   },
   "outputs": [],
   "source": [
    "# Write a function percent(value, total) that takes in two numbers as arguments, and returns the percentage value as an integer.\n",
    "# In - percent(46, 90)\n",
    "# Out - 51\n",
    "# In - percent(51, 51)\n",
    "# Out - 100\n",
    "# In - percent(63, 12)\n",
    "# Out - 525\n",
    "\n",
    "def percent(value, total):\n",
    "    percentage = (value / total) * 100\n",
    "    return int(percentage)\n",
    "\n",
    "# Example usage\n",
    "result1 = percent(46, 90)\n",
    "print(result1)  # Output: 51\n",
    "\n",
    "result2 = percent(51, 51)\n",
    "print(result2)  # Output: 100\n",
    "\n",
    "result3 = percent(63, 12)\n",
    "print(result3)  # Output: 525\n"
   ]
  },
  {
   "cell_type": "code",
   "execution_count": null,
   "metadata": {
    "id": "QyoWR3dQh2OZ"
   },
   "outputs": [],
   "source": [
    "# Write a function to compute the hypotenuse given sides a and b of the triangle.\n",
    "# Hint: You can use math.sqrt(x) to compute the square root of x.\n",
    "# In - hypotenuse(3, 4)\n",
    "# Out - 5\n",
    "# In - hypotenuse(5, 12)\n",
    "# Out - 13\n",
    "\n",
    "import math\n",
    "\n",
    "def hypotenuse(a, b):\n",
    "    hypotenuse_value = math.sqrt(a**2 + b**2)\n",
    "    return int(hypotenuse_value)\n",
    "\n",
    "# Example usage\n",
    "result1 = hypotenuse(3, 4)\n",
    "print(result1)  # Output: 5\n",
    "\n",
    "result2 = hypotenuse(5, 12)\n",
    "print(result2) \n"
   ]
  },
  {
   "cell_type": "code",
   "execution_count": null,
   "metadata": {
    "id": "XthPUigkh2Ro"
   },
   "outputs": [],
   "source": [
    "# Write a function getSumOfLastDigits() that takes in a list of positive numbers and returns the sum of all the last digits in the list.\n",
    "# getSumOfLastDigits([2, 3, 4])\n",
    "# 9\n",
    "# getSumOfLastDigits([1, 23, 456])\n",
    "# 10\n",
    "\n",
    "def getSumOfLastDigits(numbers):\n",
    "    sum_of_last_digits = sum(num % 10 for num in numbers)\n",
    "    return sum_of_last_digits\n",
    "\n",
    "# Example usage\n",
    "result1 = getSumOfLastDigits([2, 3, 4])\n",
    "print(result1)  # Output: 9\n",
    "\n",
    "result2 = getSumOfLastDigits([1, 23, 456])\n",
    "print(result2)  # Output: 10\n"
   ]
  },
  {
   "cell_type": "code",
   "execution_count": null,
   "metadata": {
    "id": "T-uIqm9Mh2Un"
   },
   "outputs": [],
   "source": [
    "# Write a function that uses a default value.\n",
    "# In - introduce('Lim', 20)\n",
    "# Out - 'My name is Lim. I am 20 years old.'\n",
    "# In - introduce('Ahmad')\n",
    "# Out - 'My name is Ahmad. My age is secret.'\n",
    "\n",
    "\n",
    "def introduce(name, age='My age is secret.'):\n",
    "    return f'My name is {name}. {age}'\n",
    "\n",
    "# Example usage\n",
    "result1 = introduce('Lim', 20)\n",
    "print(result1)  # Output: 'My name is Lim. I am 20 years old.'\n",
    "\n",
    "result2 = introduce('Ahmad')\n",
    "print(result2)  # Output: 'My name is Ahmad. My age is secret.'\n"
   ]
  },
  {
   "cell_type": "code",
   "execution_count": null,
   "metadata": {
    "id": "h0pXo5vH6wA-"
   },
   "outputs": [],
   "source": [
    "# Write a function isEquilateral(x, y, z) that accepts the 3 sides of a triangle as arguments. \n",
    "# The program should return True if it is an equilateral triangle.\n",
    "\n",
    "# In - isEquilateral(2, 4, 3)\n",
    "# False - False\n",
    "# In - isEquilateral(3, 3, 3)\n",
    "# Out - True\n",
    "# In - isEquilateral(-3, -3, -3)\n",
    "# Out - False\n",
    "\n",
    "def isEquilateral(x, y, z):\n",
    "    return x > 0 and y > 0 and z > 0 and x == y == z\n",
    "\n",
    "# Example usage\n",
    "result1 = isEquilateral(2, 4, 3)\n",
    "print(result1)  # Output: False\n",
    "\n",
    "result2 = isEquilateral(3, 3, 3)\n",
    "print(result2)  # Output: True\n",
    "\n",
    "result3 = isEquilateral(-3, -3, -3)\n",
    "print(result3)  # Output: False\n"
   ]
  },
  {
   "cell_type": "code",
   "execution_count": null,
   "metadata": {
    "id": "3NvcKCkn6wFy"
   },
   "outputs": [],
   "source": [
    "# For a quadratic equation in the form of ax2+bx+c, the discriminant, D is b2-4ac. Write a function to compute the discriminant, D.\n",
    "# In - quadratic(1, 2, 3)\n",
    "# Out - 'The discriminant is -8.'\n",
    "# In - quadratic(1, 3, 2)\n",
    "# Out - 'The discriminant is 1.'\n",
    "# In - quadratic(1, 4, 4)\n",
    "# Out - 'The discriminant is 0.'\n",
    "\n",
    "def quadratic(a, b, c):\n",
    "    discriminant = b**2 - 4*a*c\n",
    "    return f'The discriminant is {discriminant}.'\n",
    "\n",
    "# Example usage\n",
    "result1 = quadratic(1, 2, 3)\n",
    "print(result1)  # Output: 'The discriminant is -8.'\n",
    "\n",
    "result2 = quadratic(1, 3, 2)\n",
    "print(result2)  # Output: 'The discriminant is 1.'\n",
    "\n",
    "result3 = quadratic(1, 4, 4)\n",
    "print(result3)  # Output: 'The discriminant is 0.'\n",
    "\n"
   ]
  },
  {
   "cell_type": "code",
   "execution_count": 2,
   "metadata": {
    "colab": {
     "base_uri": "https://localhost:8080/",
     "height": 34
    },
    "id": "ihmuttBS6wJQ",
    "outputId": "0ef031e9-dec6-4ffe-b1ea-38d836dbcdcf"
   },
   "outputs": [
    {
     "name": "stdout",
     "output_type": "stream",
     "text": [
      "0\n",
      "5\n",
      "10\n"
     ]
    }
   ],
   "source": [
    "# Define a function calls addFirstAndLast(x) that takes in a list of numbers and returns the sum of the first and last numbers.\n",
    "# In - addFirstAndLast([])\n",
    "# Out - 0\n",
    "# In - addFirstAndLast([2, 7, 3])\n",
    "# Out - 5\n",
    "# In - addFirstAndLast([10])\n",
    "# Out - 10\n",
    "\n",
    "def addFirstAndLast(x):\n",
    "    if len(x) >= 2:\n",
    "        return x[0] + x[-1]\n",
    "    elif len(x) == 1:\n",
    "        return x[0]\n",
    "    else:\n",
    "        return 0\n",
    "\n",
    "# Example usage\n",
    "result1 = addFirstAndLast([])\n",
    "print(result1)  # Output: 0\n",
    "\n",
    "result2 = addFirstAndLast([2, 7, 3])\n",
    "print(result2)  # Output: 5\n",
    "\n",
    "result3 = addFirstAndLast([10])\n",
    "print(result3)  # Output: 10\n"
   ]
  },
  {
   "cell_type": "code",
   "execution_count": 5,
   "metadata": {
    "colab": {
     "base_uri": "https://localhost:8080/",
     "height": 34
    },
    "id": "lEt9HNPI6wM0",
    "outputId": "b07e15c3-a864-454c-aef5-1f1f0e07b39a"
   },
   "outputs": [
    {
     "data": {
      "text/plain": [
       "True"
      ]
     },
     "execution_count": 5,
     "metadata": {},
     "output_type": "execute_result"
    }
   ],
   "source": [
    "# Complete the 'lambda' expression so that it returns True if the argument is an even number, and False otherwise.\n",
    "\n",
    "# (lambda num : ---------------------------------------)(6)\n",
    "\n",
    "(lambda num: num % 2 == 0)(6)"
   ]
  },
  {
   "cell_type": "code",
   "execution_count": null,
   "metadata": {
    "colab": {
     "base_uri": "https://localhost:8080/",
     "height": 35
    },
    "id": "JYWSZXPg6wQN",
    "outputId": "7b71e08d-573f-4d03-d5e3-e220df4c3b90"
   },
   "outputs": [
    {
     "data": {
      "application/vnd.google.colaboratory.intrinsic+json": {
       "type": "string"
      },
      "text/plain": [
       "\"'A function that computes and returns the final score.\""
      ]
     },
     "execution_count": 3,
     "metadata": {
      "tags": []
     },
     "output_type": "execute_result"
    }
   ],
   "source": [
    "\n",
    "# Get the documentation of below function\n",
    "\n",
    "def getScore():\n",
    "  ''''A function that computes and returns the final score.'''\n",
    "  pass\n",
    "\n",
    "\n",
    "def getScore():\n",
    "    '''A function that computes and returns the final score.'''\n",
    "    pass\n",
    "\n",
    "# Get documentation using help\n",
    "help(getScore)\n"
   ]
  },
  {
   "cell_type": "code",
   "execution_count": null,
   "metadata": {
    "colab": {
     "base_uri": "https://localhost:8080/",
     "height": 34
    },
    "id": "zmi81hi76wTK",
    "outputId": "232b4456-63ad-4582-d2cd-d888952dc957"
   },
   "outputs": [
    {
     "name": "stdout",
     "output_type": "stream",
     "text": [
      "25\n"
     ]
    }
   ],
   "source": [
    "# In Python, it is possible to pass a function as a argument to another function. \n",
    "# Write a function useFunction(func, num) that takes in a function and a number as arguments. \n",
    "# The useFunction should produce the output shown in the examples given below.\n",
    "\n",
    "# def addOne(x):\n",
    "#   return x + 1\n",
    "# useFunction(addOne, 4)\n",
    "# 25\n",
    "# useFunction(addOne, 9)\n",
    "# 100\n",
    "# useFunction(addOne, 0)\n",
    "# 1\n",
    "\n",
    "\n",
    "\n",
    "def useFunction(func, num):\n",
    "    result = func(num) ** 2\n",
    "    print(result)\n",
    "\n",
    "# Example usage with the provided addOne function\n",
    "def addOne(x):\n",
    "    return x + 1\n",
    "\n",
    "useFunction(addOne, 4)  # Output: 25\n",
    "useFunction(addOne, 9)  # Output: 100\n",
    "useFunction(addOne, 0)  # Output: 1\n",
    "\n",
    "\n"
   ]
  },
  {
   "cell_type": "code",
   "execution_count": null,
   "metadata": {
    "id": "JJm1zFMX6wWK"
   },
   "outputs": [],
   "source": [
    "# Write a function find_max that accepts three numbers as arguments and returns the largest number among three. \n",
    "# Write another function main, in main() function accept three numbers from user and call find_max.\n",
    "\n",
    "def find_max(num1, num2, num3):\n",
    "    return max(num1, num2, num3)\n",
    "\n",
    "def main():\n",
    "    try:\n",
    "        # Accept three numbers from the user\n",
    "        num1 = float(input(\"Enter the first number: \"))\n",
    "        num2 = float(input(\"Enter the second number: \"))\n",
    "        num3 = float(input(\"Enter the third number: \"))\n",
    "\n",
    "        # Call find_max function and print the result\n",
    "        result = find_max(num1, num2, num3)\n",
    "        print(f\"The largest number among {num1}, {num2}, and {num3} is: {result}\")\n",
    "\n",
    "    except ValueError:\n",
    "        print(\"Please enter valid numerical values.\")\n",
    "\n",
    "# Call the main function\n",
    "main()\n"
   ]
  },
  {
   "cell_type": "code",
   "execution_count": 1,
   "metadata": {
    "colab": {
     "base_uri": "https://localhost:8080/",
     "height": 34
    },
    "id": "PBvBwg0O6waD",
    "outputId": "57768b69-c749-4d88-be06-7a9d41a98de2"
   },
   "outputs": [],
   "source": [
    "# Write a function, is_vowel that returns the value true if a given character is a vowel, \n",
    "# and otherwise returns false. \n",
    "# Write another function main, in main() function accept a string from user and count number \n",
    "# of vowels in that string.\n",
    "\n",
    "def is_vowel(char):\n",
    "    vowels = 'aeiouAEIOU'\n",
    "    return char in vowels\n",
    "\n",
    "def main():\n",
    "    try:\n",
    "        # Accept a string from the user\n",
    "        user_input = input(\"Enter a string: \")\n",
    "\n",
    "        # Count the number of vowels in the string\n",
    "        vowel_count = sum(1 for char in user_input if is_vowel(char))\n",
    "\n",
    "        print(f\"Number of vowels in the string: {vowel_count}\")\n",
    "\n",
    "    except ValueError:\n",
    "        print(\"Invalid input. Please enter a valid string.\")\n",
    "\n",
    "# Call the main function\n",
    "main()\n"
   ]
  },
  {
   "cell_type": "code",
   "execution_count": null,
   "metadata": {},
   "outputs": [],
   "source": [
    "# Write a function named is_prime, which takes an integer as an argument and returns true \n",
    "# if the argument is a prime number, or false otherwise. \n",
    "# Also, write the main function that displays prime numbers between 1 to 500.\n",
    "\n",
    "def is_prime(num):\n",
    "    if num < 2:\n",
    "        return False\n",
    "    for i in range(2, int(num**0.5) + 1):\n",
    "        if num % i == 0:\n",
    "            return False\n",
    "    return True\n",
    "\n",
    "def main():\n",
    "    print(\"Prime numbers between 1 to 500:\")\n",
    "    for number in range(1, 501):\n",
    "        if is_prime(number):\n",
    "            print(number, end=' ')\n",
    "\n",
    "# Call the main function\n",
    "main()\n"
   ]
  },
  {
   "cell_type": "code",
   "execution_count": null,
   "metadata": {},
   "outputs": [],
   "source": [
    "# Write a function in python to find the sum of the cube of elements in a list. \n",
    "# The list is received as an argument to the function, in turn, the function must return the sum. \n",
    "# Write the main function which invokes the above function.\n",
    "\n",
    "def sum_of_cubes(lst):\n",
    "    return sum(num**3 for num in lst)\n",
    "\n",
    "def main():\n",
    "    try:\n",
    "        # Accept a list of numbers from the user\n",
    "        user_input = input(\"Enter a list of numbers separated by spaces: \")\n",
    "        numbers = [float(num) for num in user_input.split()]\n",
    "\n",
    "        # Call sum_of_cubes function and print the result\n",
    "        result = sum_of_cubes(numbers)\n",
    "        print(f\"Sum of the cubes of the elements in the list: {result}\")\n",
    "\n",
    "    except ValueError:\n",
    "        print(\"Invalid input. Please enter a valid list of numbers.\")\n",
    "\n",
    "# Call the main function\n",
    "main()\n"
   ]
  },
  {
   "cell_type": "code",
   "execution_count": null,
   "metadata": {},
   "outputs": [],
   "source": [
    "# Write the definition of a function zero_ending(scores) to add all those values in the list of scores, \n",
    "# which are ending with zero and display the sum.\n",
    "# For example: If the scores contain [200, 456, 300, 100, 234, 678] The sum should be displayed as 600\n",
    "\n",
    "\n",
    "def zero_ending(scores):\n",
    "    # Filter scores that end with zero and calculate the sum\n",
    "    sum_of_zero_ending = sum(score for score in scores if str(score).endswith('0'))\n",
    "    print(f\"Sum of scores ending with zero: {sum_of_zero_ending}\")\n",
    "\n",
    "# Example usage\n",
    "scores = [200, 456, 300, 100, 234, 678]\n",
    "zero_ending(scores)\n"
   ]
  },
  {
   "cell_type": "code",
   "execution_count": null,
   "metadata": {},
   "outputs": [],
   "source": [
    "# Write a definition of a method count_now(places) to find and display those place names, \n",
    "# in which there are more than 5 characters.\n",
    "\n",
    "# For example :\n",
    "# If the list places contains\n",
    "# [\"DELHI\",\"LONDON\",\"PARIS\",\"NEW YORK\",\"DUBAI\"]\n",
    "# The following should get displayed :\n",
    "# LONDON\n",
    "# NEW YORK\n",
    "\n",
    "def count_now(places):\n",
    "    # Display place names with more than 5 characters\n",
    "    for place in places:\n",
    "        if len(place) > 5:\n",
    "            print(place)\n",
    "\n",
    "# Example usage\n",
    "places = [\"DELHI\", \"LONDON\", \"PARIS\", \"NEW YORK\", \"DUBAI\"]\n",
    "count_now(places)\n"
   ]
  },
  {
   "cell_type": "code",
   "execution_count": null,
   "metadata": {},
   "outputs": [],
   "source": [
    "# Write a method in python to display the elements of list thrice if it is a number and display \n",
    "# the element terminated with ‘#’ if it is not a number.\n",
    "\n",
    "# For example, if the content of list is as follows :\n",
    "# ThisList=[‘41’,‘DROND’,‘GIRIRAJ’, ‘13’,‘ZARA’]\n",
    "# The output should be\n",
    "# 414141\n",
    "# DROND#\n",
    "# GIRIRAJ#\n",
    "# 131313\n",
    "# ZARA#\n",
    "\n",
    "def display_elements_thrice_or_terminate(lst):\n",
    "    for element in lst:\n",
    "        if element.isdigit():\n",
    "            print(element * 3)\n",
    "        else:\n",
    "            print(element + \"#\")\n",
    "\n",
    "# Example usage\n",
    "ThisList = ['41', 'DROND', 'GIRIRAJ', '13', 'ZARA']\n",
    "display_elements_thrice_or_terminate(ThisList)\n"
   ]
  },
  {
   "cell_type": "code",
   "execution_count": null,
   "metadata": {},
   "outputs": [],
   "source": [
    "# For a given list of values in descending order, write a method in python to search \n",
    "# for a value with the help of Binary Search method. \n",
    "# The method should return position of the value and should return -1 if the value not present in the list.\n",
    "\n",
    "def binary_search_descending(arr, target):\n",
    "    low, high = 0, len(arr) - 1\n",
    "\n",
    "    while low <= high:\n",
    "        mid = (low + high) // 2\n",
    "\n",
    "        if arr[mid] == target:\n",
    "            return mid  # Target found, return position\n",
    "        elif arr[mid] < target:\n",
    "            high = mid - 1  # Search in the left half\n",
    "        else:\n",
    "            low = mid + 1  # Search in the right half\n",
    "\n",
    "    return -1  # Target not present in the list\n",
    "\n",
    "# Example usage\n",
    "desc_values = [20, 15, 10, 8, 6, 5, 3, 2, 1]\n",
    "target_value = 6\n",
    "\n",
    "result = binary_search_descending(desc_values, target_value)\n",
    "\n",
    "if result != -1:\n",
    "    print(f\"The value {target_value} is found at position {result}.\")\n",
    "else:\n",
    "    print(f\"The value {target_value} is not present in the list.\")\n"
   ]
  },
  {
   "cell_type": "code",
   "execution_count": null,
   "metadata": {},
   "outputs": [],
   "source": [
    "# Write a function half_and_half that takes in a list and change the list \n",
    "# such that the elements of the second half are now in the first half.\n",
    "\n",
    "# For example, if the size of list is even and content of list is as follows :\n",
    "# my_liist = [10,20,30,40,50,60]\n",
    "# The output should be\n",
    "# [40,50,60,10,20,30]\n",
    "# if the size of list is odd and content of list is as follows :\n",
    "# my_liist = [10,20,30,40,50,60,70]\n",
    "# The output should be\n",
    "# [50,60,70,40,10,20,30]\n",
    "\n",
    "def half_and_half(my_list):\n",
    "    size = len(my_list)\n",
    "    \n",
    "    if size % 2 == 0:\n",
    "        # List size is even\n",
    "        mid = size // 2\n",
    "        my_list[:] = my_list[mid:] + my_list[:mid]\n",
    "    else:\n",
    "        # List size is odd\n",
    "        mid = size // 2 + 1\n",
    "        my_list[:] = my_list[mid:] + my_list[:mid]\n",
    "\n",
    "# Example usage\n",
    "even_list = [10, 20, 30, 40, 50, 60]\n",
    "odd_list = [10, 20, 30, 40, 50, 60, 70]\n",
    "\n",
    "half_and_half(even_list)\n",
    "print(even_list)  # Output: [40, 50, 60, 10, 20, 30]\n",
    "\n",
    "half_and_half(odd_list)\n",
    "print(odd_list)   # Output: [50, 60, 70, 40, 10, 20, 30]\n"
   ]
  },
  {
   "cell_type": "code",
   "execution_count": 1,
   "metadata": {
    "ExecuteTime": {
     "end_time": "2021-05-29T10:39:43.694779Z",
     "start_time": "2021-05-29T10:39:43.691446Z"
    }
   },
   "outputs": [],
   "source": [
    "# Write a function that accepts a dictionary as an argument. If the dictionary contains replicate values, \n",
    "# return an empty dictionary, otherwise, return a new dictionary whose values are now the keys and whose \n",
    "# keys are the values.\n",
    "\n",
    "\n",
    "def swap_keys_values(dictionary):\n",
    "    # Check for duplicate values\n",
    "    if len(set(dictionary.values())) != len(dictionary):\n",
    "        return {}  # Dictionary contains duplicate values\n",
    "    \n",
    "    # Swap keys and values\n",
    "    swapped_dict = {value: key for key, value in dictionary.items()}\n",
    "    return swapped_dict\n",
    "\n",
    "# Example usage\n",
    "input_dict1 = {'a': 1, 'b': 2, 'c': 3}\n",
    "output_dict1 = swap_keys_values(input_dict1)\n",
    "print(output_dict1)  # Output: {1: 'a', 2: 'b', 3: 'c'}\n",
    "\n",
    "input_dict2 = {'a': 1, 'b': 2, 'c': 1}\n",
    "output_dict2 = swap_keys_values(input_dict2)\n",
    "print(output_dict2)  # Output: {}\n"
   ]
  },
  {
   "cell_type": "code",
   "execution_count": null,
   "metadata": {},
   "outputs": [],
   "source": []
  },
  {
   "cell_type": "code",
   "execution_count": null,
   "metadata": {},
   "outputs": [],
   "source": []
  },
  {
   "cell_type": "code",
   "execution_count": null,
   "metadata": {},
   "outputs": [],
   "source": []
  },
  {
   "cell_type": "code",
   "execution_count": null,
   "metadata": {},
   "outputs": [],
   "source": []
  }
 ],
 "metadata": {
  "colab": {
   "name": "Function_Assignment.ipynb",
   "provenance": []
  },
  "kernelspec": {
   "display_name": "Python 3 (ipykernel)",
   "language": "python",
   "name": "python3"
  },
  "language_info": {
   "codemirror_mode": {
    "name": "ipython",
    "version": 3
   },
   "file_extension": ".py",
   "mimetype": "text/x-python",
   "name": "python",
   "nbconvert_exporter": "python",
   "pygments_lexer": "ipython3",
   "version": "3.12.7"
  }
 },
 "nbformat": 4,
 "nbformat_minor": 4
}
